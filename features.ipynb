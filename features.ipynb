{
 "cells": [
  {
   "cell_type": "code",
   "execution_count": 1,
   "metadata": {},
   "outputs": [],
   "source": [
    "import spacy\n",
    "import corenlp\n",
    "import nltk\n",
    "from nltk import ngrams\n",
    "from nltk.tokenize import sent_tokenize,wordpunct_tokenize,word_tokenize,RegexpTokenizer,TweetTokenizer\n",
    "from nltk.corpus import stopwords \n",
    "from nltk.stem.porter import PorterStemmer\n",
    "from nltk.stem import WordNetLemmatizer\n",
    "\n",
    "import sklearn\n",
    "from sklearn.externals import joblib\n",
    "from sklearn.model_selection import train_test_split\n",
    "\n",
    "import pandas as pd\n",
    "import numpy as np\n",
    "\n",
    "import os,math,glob,re\n",
    "\n",
    "from collections import Counter\n",
    "import re as regex\n",
    "import contractions\n",
    "import copy\n",
    "\n",
    "from itertools import chain\n",
    "\n",
    "nlp = spacy.load('en_core_web_sm')\n",
    "nlp.max_length=9999999\n",
    "\n"
   ]
  },
  {
   "cell_type": "markdown",
   "metadata": {},
   "source": [
    "### Pre-Processing"
   ]
  },
  {
   "cell_type": "code",
   "execution_count": 2,
   "metadata": {},
   "outputs": [],
   "source": [
    "def contract(text):\n",
    "    return contractions.fix(text)\n",
    "\n",
    "def regTokenize(text):\n",
    "    tok=RegexpTokenizer('[A-Za-z0-9]*[.]?\\w+')\n",
    "    return tok.tokenize(text) \n",
    "\n",
    "def lowercase(text):\n",
    "    return text.lower()\n",
    "\n",
    "def lemma(words):\n",
    "    for i in range(0,len(words)):\n",
    "        words[i]=WordNetLemmatizer().lemmatize(words[i])\n",
    "    return words\n",
    "\n",
    "def stemming(words):\n",
    "    porter_stemmer=PorterStemmer()\n",
    "    for i in range(0,len(words)):\n",
    "        words[i]=porter_stemmer.stem(words[i])\n",
    "    return words\n",
    "\n",
    "def tweet(words):\n",
    "    tok=TweetTokenizer()\n",
    "    return tok.tokenize(words)\n",
    "\n",
    "def comma(text):\n",
    "    text = \"\".join(c for c in text if c not in ('!','.',':',',','\"','?','(',')'))\n",
    "    return text\n",
    "\n",
    "def getBasicNorm(text):\n",
    "    for i in range(0,len(text)):\n",
    "        text[i]=contract(text[i])\n",
    "        text[i]=lowercase(text[i])\n",
    "    return text"
   ]
  },
  {
   "cell_type": "markdown",
   "metadata": {},
   "source": [
    "### Feature Extraction functions"
   ]
  },
  {
   "cell_type": "code",
   "execution_count": 3,
   "metadata": {},
   "outputs": [],
   "source": [
    "def getWholeString(data):\n",
    "    string=''\n",
    "    for i in data:\n",
    "        string+=i[0]+' '\n",
    "    return string\n",
    "\n",
    "def getNGrams(corpusSentence):\n",
    "    \n",
    "    corpusSentence=contract(corpusSentence)\n",
    "    corpusSentence=lowercase(corpusSentence)\n",
    "    tokenized=regTokenize(corpusSentence)\n",
    "    \n",
    "    uni=list(ngrams(tokenized,1))\n",
    "    bigram=list(ngrams(tokenized,2))\n",
    "    trigram=list(ngrams(tokenized,3))\n",
    "\n",
    "    print('uni:',len(uni),' bi:',len(bigram),'tri:',len(trigram))\n",
    "    grams=[uni,bigram,trigram]\n",
    "    \n",
    "    return grams\n",
    "\n",
    "def postagging(corpusSentence):\n",
    "    \n",
    "    corpusSentence=contract(corpusSentence)\n",
    "    corpusSentence=lowercase(corpusSentence)\n",
    "#     tokenized=regTokenize(corpusSentence)\n",
    "    \n",
    "    doc = nlp(corpusSentence)\n",
    "#     for i in range(0,5):\n",
    "#         print(doc[i].pos_,doc[i].lemma_)\n",
    "    \n",
    "    return doc\n",
    "\n",
    "def posPattern(corpusSentence):\n",
    "    doc = nlp(corpusSentence)\n",
    "    return doc\n",
    "\n",
    "\n",
    "# def namedEntities(corpusSentence):\n",
    "#     corpusSentence=contract(corpusSentence)\n",
    "#     corpusSentence=lowercase(corpusSentence)\n",
    "# #     tokenized=regTokenize(corpusSentence)\n",
    "    \n",
    "#     doc = nlp(corpusSentence)\n",
    "# #     for i in range(0,5):\n",
    "# #         print(doc[i].pos_,doc[i].lemma_)\n",
    "#     return doc\n",
    "\n",
    "\n",
    "# -----------------------------------------POS Pattern-----------------------------------------\n",
    "def getPosPattern(data_sentences):\n",
    "    sentences_pos=[]\n",
    "    for i in data_sentences:\n",
    "        sent=[]\n",
    "        s=postagging(i)\n",
    "        for j in s:\n",
    "            sent.append(j.pos_)\n",
    "        sentences_pos.append(sent)\n",
    "    return sentences_pos\n",
    "\n",
    "def posGrams(sentence):\n",
    "    \n",
    "    trigram=list(ngrams(sentence,3))\n",
    "    fourgram=list(ngrams(sentence,4))\n",
    "    \n",
    "#     print('uni:',len(uni),' bi:',len(bigram),'tri:',len(trigram))\n",
    "    grams=[trigram,fourgram]\n",
    "    \n",
    "    return grams\n",
    "   \n",
    "def get34grams(sentences_pos):\n",
    "    \n",
    "    three_four_grams=[]\n",
    "    \n",
    "    for sent_pos in sentences_pos:\n",
    "        temp=posGrams(sent_pos)\n",
    "        temp = list(chain(*temp))\n",
    "#         print(temp)\n",
    "        three_four_grams.append(temp)\n",
    "    \n",
    "    return three_four_grams"
   ]
  },
  {
   "cell_type": "markdown",
   "metadata": {},
   "source": [
    "### Dataset Loading"
   ]
  },
  {
   "cell_type": "code",
   "execution_count": 4,
   "metadata": {},
   "outputs": [
    {
     "name": "stdout",
     "output_type": "stream",
     "text": [
      "11112  sentences\n",
      "8889   2223   8889   2223\n"
     ]
    }
   ],
   "source": [
    "dataset=joblib.load('dataset_with_labels.sav')\n",
    "\n",
    "print(len(dataset),' sentences')\n",
    "\n",
    "# print(np.array(dataset)[:,0])\n",
    "X=np.array(dataset)[:,0] # sentences\n",
    "Y=np.array(dataset)[:,1] # labels\n",
    "X_train, X_test, y_train, y_test = train_test_split(X, Y, test_size=0.2)\n",
    "\n",
    "print(len(X_train),' ',len(X_test),' ',len(y_train),' ',len(y_test))"
   ]
  },
  {
   "cell_type": "code",
   "execution_count": null,
   "metadata": {},
   "outputs": [],
   "source": []
  },
  {
   "cell_type": "markdown",
   "metadata": {},
   "source": [
    "### getting wholeSentences as one sentence"
   ]
  },
  {
   "cell_type": "code",
   "execution_count": 5,
   "metadata": {},
   "outputs": [
    {
     "data": {
      "text/plain": [
       "1635553"
      ]
     },
     "execution_count": 5,
     "metadata": {},
     "output_type": "execute_result"
    }
   ],
   "source": [
    "sent_as_string=getWholeString(dataset)\n",
    "\n",
    "len(sent_as_string) # sentence length"
   ]
  },
  {
   "cell_type": "markdown",
   "metadata": {},
   "source": [
    "### getting 'nGrams' and converting to 'set'"
   ]
  },
  {
   "cell_type": "code",
   "execution_count": 6,
   "metadata": {},
   "outputs": [
    {
     "name": "stdout",
     "output_type": "stream",
     "text": [
      "uni: 267545  bi: 267544 tri: 267543\n",
      "3\n",
      "802632\n",
      "363985\n"
     ]
    }
   ],
   "source": [
    "n_grams=getNGrams(sent_as_string)\n",
    "print(len(n_grams))\n",
    "\n",
    "wholeGrams = list(chain(*n_grams))\n",
    "print(len(wholeGrams))\n",
    "\n",
    "wholeGrams_list_set=list(set(wholeGrams))\n",
    "print(len(wholeGrams_list_set))"
   ]
  },
  {
   "cell_type": "code",
   "execution_count": null,
   "metadata": {},
   "outputs": [],
   "source": []
  },
  {
   "cell_type": "markdown",
   "metadata": {},
   "source": [
    "### getting pos tags and convert into 'set'"
   ]
  },
  {
   "cell_type": "code",
   "execution_count": 7,
   "metadata": {},
   "outputs": [
    {
     "name": "stdout",
     "output_type": "stream",
     "text": [
      "309474\n",
      "16\n"
     ]
    }
   ],
   "source": [
    "pos=postagging(sent_as_string)\n",
    "\n",
    "print(len(pos))\n",
    "pos_tag=[]\n",
    "\n",
    "for i in pos:\n",
    "    pos_tag.append(i.pos_)\n",
    "pos_tag_list_set=list(set(pos_tag))\n",
    "print(len(pos_tag_list_set))"
   ]
  },
  {
   "cell_type": "code",
   "execution_count": null,
   "metadata": {},
   "outputs": [],
   "source": []
  },
  {
   "cell_type": "markdown",
   "metadata": {},
   "source": [
    "### getting 'named entities' and convert into 'set'"
   ]
  },
  {
   "cell_type": "code",
   "execution_count": 20,
   "metadata": {},
   "outputs": [
    {
     "name": "stdout",
     "output_type": "stream",
     "text": [
      "15024 --> 17\n"
     ]
    }
   ],
   "source": [
    "# for i in pos.ents:\n",
    "#     print(i.text, i.start_char, i.end_char, i.label_)\n",
    "\n",
    "named_entity=[]\n",
    "for i in pos.ents:\n",
    "    named_entity.append(i.label_)\n",
    "\n",
    "named_entity_list_set=list(set(named_entity))\n",
    "print(len(named_entity),'-->', len(named_entity_list_set))"
   ]
  },
  {
   "cell_type": "code",
   "execution_count": null,
   "metadata": {},
   "outputs": [],
   "source": []
  },
  {
   "cell_type": "markdown",
   "metadata": {},
   "source": [
    "### getting 'POS Pattern' and getting '3,4-grams' for each sentence and convert into 'set'"
   ]
  },
  {
   "cell_type": "code",
   "execution_count": 21,
   "metadata": {},
   "outputs": [
    {
     "name": "stdout",
     "output_type": "stream",
     "text": [
      "11112\n"
     ]
    }
   ],
   "source": [
    "wholeX=copy.deepcopy(X)\n",
    "print(len(wholeX))\n",
    "\n",
    "wholeX=getBasicNorm(wholeX)\n",
    "\n",
    "# for i in range(0,10):\n",
    "#     print(wholeX[i])"
   ]
  },
  {
   "cell_type": "code",
   "execution_count": 22,
   "metadata": {},
   "outputs": [],
   "source": [
    "posPattern=getPosPattern(wholeX)"
   ]
  },
  {
   "cell_type": "code",
   "execution_count": 23,
   "metadata": {},
   "outputs": [
    {
     "name": "stdout",
     "output_type": "stream",
     "text": [
      "['ADP', 'NUM', 'CCONJ', 'NUM', 'NOUN', 'ADP', 'NOUN', 'NOUN', 'VERB', 'VERB', 'ADP', 'ADJ', 'NOUN', 'ADV', 'PUNCT', 'ADP', 'ADV', 'NUM', 'PART', 'NUM', 'NOUN', 'ADP', 'NOUN', 'VERB', 'PUNCT', 'VERB', 'ADP', 'NOUN', 'ADP', 'DET', 'NOUN', 'NOUN', 'PUNCT']\n",
      "11112\n"
     ]
    }
   ],
   "source": [
    "for i in posPattern:\n",
    "    print(i)\n",
    "    break\n",
    "print(len(posPattern))"
   ]
  },
  {
   "cell_type": "code",
   "execution_count": 24,
   "metadata": {},
   "outputs": [
    {
     "name": "stdout",
     "output_type": "stream",
     "text": [
      "11112\n",
      "563466\n",
      "13514\n"
     ]
    }
   ],
   "source": [
    "pos_pattern_3_4=get34grams(posPattern)\n",
    "print(len(pos_pattern_3_4))\n",
    "\n",
    "# for i in range(0,2):\n",
    "#     print(pos_pattern_3_4[i])\n",
    "#     print('\\n\\n')\n",
    "\n",
    "pos_pattern_3_4_list=list(chain(*pos_pattern_3_4))\n",
    "print(len(pos_pattern_3_4_list))\n",
    "\n",
    "pos_pattern_3_4_list_set=list(set(pos_pattern_3_4_list))\n",
    "print(len(pos_pattern_3_4_list_set))"
   ]
  },
  {
   "cell_type": "code",
   "execution_count": null,
   "metadata": {},
   "outputs": [],
   "source": []
  },
  {
   "cell_type": "markdown",
   "metadata": {},
   "source": [
    "### Sentiment Extractor"
   ]
  },
  {
   "cell_type": "code",
   "execution_count": 25,
   "metadata": {},
   "outputs": [],
   "source": [
    "sentiment_scores=['very negative','negative','neutral','positive','very positive']\n",
    "\n",
    "# scores from [0 to 4]\n",
    "# 'very negative'=0,'negative'=1,'neutral'=2,'positive'=3,'very positive'=4\n"
   ]
  },
  {
   "cell_type": "code",
   "execution_count": null,
   "metadata": {},
   "outputs": [],
   "source": []
  },
  {
   "cell_type": "markdown",
   "metadata": {},
   "source": [
    "### TPattern"
   ]
  },
  {
   "cell_type": "code",
   "execution_count": 26,
   "metadata": {},
   "outputs": [],
   "source": [
    "# case1= ()\n",
    "# case2= ()\n",
    "# case3= ()\n",
    "# case4= ()\n",
    "# case5= ()"
   ]
  },
  {
   "cell_type": "code",
   "execution_count": null,
   "metadata": {},
   "outputs": [],
   "source": []
  },
  {
   "cell_type": "markdown",
   "metadata": {},
   "source": [
    "### ASPattern"
   ]
  },
  {
   "cell_type": "code",
   "execution_count": null,
   "metadata": {},
   "outputs": [],
   "source": []
  },
  {
   "cell_type": "code",
   "execution_count": null,
   "metadata": {},
   "outputs": [],
   "source": []
  },
  {
   "cell_type": "code",
   "execution_count": null,
   "metadata": {},
   "outputs": [],
   "source": []
  },
  {
   "cell_type": "markdown",
   "metadata": {},
   "source": [
    "### Adding into 'Vector'"
   ]
  },
  {
   "cell_type": "code",
   "execution_count": 27,
   "metadata": {},
   "outputs": [
    {
     "name": "stdout",
     "output_type": "stream",
     "text": [
      "wholeGrams_list_set: 363985\n",
      "pos_tag_list_set: 364001\n",
      "named_entity_list_set: 364018\n",
      "pos_pattern_3_4_list_set: 377532\n",
      "Tpattern: 377537\n",
      "sentiment_scores: 377542\n"
     ]
    }
   ],
   "source": [
    "vector=[]\n",
    "\n",
    "# Ngrams features\n",
    "for i in wholeGrams_list_set:\n",
    "    vector.append(i)\n",
    "print('wholeGrams_list_set:',len(vector))\n",
    "\n",
    "# pos Tagging features\n",
    "for i in pos_tag_list_set:\n",
    "    vector.append(i)\n",
    "print('pos_tag_list_set:',len(vector))\n",
    "\n",
    "# Named Entities features\n",
    "for i in named_entity_list_set:\n",
    "    vector.append(i)\n",
    "print('named_entity_list_set:',len(vector))\n",
    "\n",
    "# posPattern features\n",
    "for i in pos_pattern_3_4_list_set:\n",
    "    vector.append(i)\n",
    "print('pos_pattern_3_4_list_set:',len(vector))\n",
    "\n",
    "# Tpattern cases features\n",
    "for i in range(1,6):\n",
    "    cases='case'+str(i)\n",
    "    vector.append(cases)\n",
    "print('Tpattern:',len(vector))\n",
    "\n",
    "# Sentiment Scores features\n",
    "for i in sentiment_scores:\n",
    "    vector.append(i)\n",
    "print('sentiment_scores:',len(vector))"
   ]
  },
  {
   "cell_type": "code",
   "execution_count": null,
   "metadata": {},
   "outputs": [],
   "source": []
  },
  {
   "cell_type": "code",
   "execution_count": null,
   "metadata": {},
   "outputs": [],
   "source": []
  },
  {
   "cell_type": "code",
   "execution_count": 28,
   "metadata": {},
   "outputs": [
    {
     "data": {
      "text/plain": [
       "['vector_dimensions.sav']"
      ]
     },
     "execution_count": 28,
     "metadata": {},
     "output_type": "execute_result"
    }
   ],
   "source": [
    "vector_file='vector_dimensions.sav'\n",
    "joblib.dump(vector,vector_file)"
   ]
  },
  {
   "cell_type": "code",
   "execution_count": 29,
   "metadata": {},
   "outputs": [],
   "source": [
    "vector_load=joblib.load('vector_dimensions.sav')"
   ]
  },
  {
   "cell_type": "code",
   "execution_count": 30,
   "metadata": {},
   "outputs": [
    {
     "data": {
      "text/plain": [
       "377542"
      ]
     },
     "execution_count": 30,
     "metadata": {},
     "output_type": "execute_result"
    }
   ],
   "source": [
    "len(vector_load)"
   ]
  },
  {
   "cell_type": "code",
   "execution_count": 31,
   "metadata": {},
   "outputs": [
    {
     "name": "stdout",
     "output_type": "stream",
     "text": [
      "('be', 'held', 'within')\n",
      "('a', 'praetorian')\n",
      "('considered', 'prisoners')\n",
      "('the', 'existing', 'basis')\n",
      "('cell', 'vehicle', 'the')\n",
      "('received', 'a', 'lot')\n",
      "('and', 'olusegun', 'obasanjo')\n",
      "('speed', 'why', 'do')\n",
      "('holds', 'true', 'for')\n",
      "('to', 'fulfill', 'these')\n"
     ]
    }
   ],
   "source": [
    "for i in range(0,10):\n",
    "    print(vector_load[i])"
   ]
  },
  {
   "cell_type": "markdown",
   "metadata": {},
   "source": [
    "## Feature Extraction"
   ]
  },
  {
   "cell_type": "markdown",
   "metadata": {},
   "source": [
    "### Ngrams"
   ]
  },
  {
   "cell_type": "code",
   "execution_count": null,
   "metadata": {},
   "outputs": [],
   "source": []
  },
  {
   "cell_type": "code",
   "execution_count": null,
   "metadata": {},
   "outputs": [],
   "source": []
  },
  {
   "cell_type": "markdown",
   "metadata": {},
   "source": [
    "### pos Tagging"
   ]
  },
  {
   "cell_type": "code",
   "execution_count": null,
   "metadata": {},
   "outputs": [],
   "source": []
  },
  {
   "cell_type": "code",
   "execution_count": null,
   "metadata": {},
   "outputs": [],
   "source": []
  },
  {
   "cell_type": "markdown",
   "metadata": {},
   "source": [
    "### Named Entities"
   ]
  },
  {
   "cell_type": "code",
   "execution_count": null,
   "metadata": {},
   "outputs": [],
   "source": []
  },
  {
   "cell_type": "code",
   "execution_count": null,
   "metadata": {},
   "outputs": [],
   "source": []
  },
  {
   "cell_type": "markdown",
   "metadata": {},
   "source": [
    "### pos Pattern"
   ]
  },
  {
   "cell_type": "code",
   "execution_count": null,
   "metadata": {},
   "outputs": [],
   "source": []
  },
  {
   "cell_type": "code",
   "execution_count": null,
   "metadata": {},
   "outputs": [],
   "source": []
  },
  {
   "cell_type": "markdown",
   "metadata": {},
   "source": [
    "### TPattern"
   ]
  },
  {
   "cell_type": "code",
   "execution_count": null,
   "metadata": {},
   "outputs": [],
   "source": []
  },
  {
   "cell_type": "code",
   "execution_count": null,
   "metadata": {},
   "outputs": [],
   "source": []
  },
  {
   "cell_type": "markdown",
   "metadata": {},
   "source": [
    "### Sentiment Scores"
   ]
  },
  {
   "cell_type": "code",
   "execution_count": null,
   "metadata": {},
   "outputs": [],
   "source": []
  },
  {
   "cell_type": "code",
   "execution_count": null,
   "metadata": {},
   "outputs": [],
   "source": []
  },
  {
   "cell_type": "markdown",
   "metadata": {},
   "source": [
    "### ASpattern"
   ]
  },
  {
   "cell_type": "code",
   "execution_count": null,
   "metadata": {},
   "outputs": [],
   "source": []
  },
  {
   "cell_type": "code",
   "execution_count": null,
   "metadata": {},
   "outputs": [],
   "source": []
  }
 ],
 "metadata": {
  "kernelspec": {
   "display_name": "Python 3",
   "language": "python",
   "name": "python3"
  },
  "language_info": {
   "codemirror_mode": {
    "name": "ipython",
    "version": 3
   },
   "file_extension": ".py",
   "mimetype": "text/x-python",
   "name": "python",
   "nbconvert_exporter": "python",
   "pygments_lexer": "ipython3",
   "version": "3.6.8"
  }
 },
 "nbformat": 4,
 "nbformat_minor": 2
}
