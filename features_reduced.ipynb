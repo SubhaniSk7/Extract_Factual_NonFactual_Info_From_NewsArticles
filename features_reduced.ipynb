{
 "cells": [
  {
   "cell_type": "code",
   "execution_count": 1,
   "metadata": {},
   "outputs": [],
   "source": [
    "import spacy\n",
    "import corenlp\n",
    "import nltk\n",
    "from nltk import ngrams\n",
    "from nltk.tokenize import sent_tokenize,wordpunct_tokenize,word_tokenize,RegexpTokenizer,TweetTokenizer\n",
    "from nltk.corpus import stopwords \n",
    "from nltk.stem.porter import PorterStemmer\n",
    "from nltk.stem import WordNetLemmatizer\n",
    "\n",
    "import sklearn\n",
    "from sklearn.externals import joblib\n",
    "from sklearn.model_selection import train_test_split\n",
    "\n",
    "import pandas as pd\n",
    "import numpy as np\n",
    "\n",
    "import os,math,glob,re\n",
    "\n",
    "from collections import Counter\n",
    "import re as regex\n",
    "import contractions\n",
    "import copy\n",
    "\n",
    "from itertools import chain\n",
    "\n",
    "nlp = spacy.load('en_core_web_sm')\n",
    "nlp.max_length=9999999\n",
    "\n"
   ]
  },
  {
   "cell_type": "markdown",
   "metadata": {},
   "source": [
    "### Pre-Processing"
   ]
  },
  {
   "cell_type": "code",
   "execution_count": 2,
   "metadata": {},
   "outputs": [],
   "source": [
    "def contract(text):\n",
    "    return contractions.fix(text)\n",
    "\n",
    "def regTokenize(text):\n",
    "    tok=RegexpTokenizer('[A-Za-z0-9]*[.]?\\w+')\n",
    "    return tok.tokenize(text) \n",
    "\n",
    "def lowercase(text):\n",
    "    return text.lower()\n",
    "\n",
    "def lemma(words):\n",
    "    for i in range(0,len(words)):\n",
    "        words[i]=WordNetLemmatizer().lemmatize(words[i])\n",
    "    return words\n",
    "\n",
    "def stemming(words):\n",
    "    porter_stemmer=PorterStemmer()\n",
    "    for i in range(0,len(words)):\n",
    "        words[i]=porter_stemmer.stem(words[i])\n",
    "    return words\n",
    "\n",
    "def tweet(words):\n",
    "    tok=TweetTokenizer()\n",
    "    return tok.tokenize(words)\n",
    "\n",
    "def comma(text):\n",
    "    text = \"\".join(c for c in text if c not in ('!','.',':',',','\"','?','(',')'))\n",
    "    return text\n",
    "\n",
    "def getBasicNorm(text):\n",
    "    for i in range(0,len(text)):\n",
    "        text[i]=contract(text[i])\n",
    "        text[i]=lowercase(text[i])\n",
    "    return text"
   ]
  },
  {
   "cell_type": "markdown",
   "metadata": {},
   "source": [
    "### Feature Extraction functions"
   ]
  },
  {
   "cell_type": "code",
   "execution_count": 3,
   "metadata": {},
   "outputs": [],
   "source": [
    "def getWholeString(data):\n",
    "    string=''\n",
    "    for i in data:\n",
    "        string+=i[0]+' '\n",
    "    return string\n",
    "\n",
    "def getNGrams(corpusSentence):\n",
    "    \n",
    "    corpusSentence=contract(corpusSentence)\n",
    "    corpusSentence=lowercase(corpusSentence)\n",
    "    tokenized=regTokenize(corpusSentence)\n",
    "    \n",
    "    uni=list(ngrams(tokenized,1))\n",
    "    bigram=list(ngrams(tokenized,2))\n",
    "    trigram=list(ngrams(tokenized,3))\n",
    "\n",
    "    print('uni:',len(uni),' bi:',len(bigram),'tri:',len(trigram))\n",
    "    grams=[uni,bigram,trigram]\n",
    "    \n",
    "    return grams\n",
    "\n",
    "\n",
    "def postagging(corpusSentence):\n",
    "    \n",
    "    corpusSentence=contract(corpusSentence)\n",
    "    corpusSentence=lowercase(corpusSentence)\n",
    "#     tokenized=regTokenize(corpusSentence)\n",
    "    \n",
    "    doc = nlp(corpusSentence)\n",
    "#     for i in range(0,5):\n",
    "#         print(doc[i].pos_,doc[i].lemma_)\n",
    "    \n",
    "    return doc\n",
    "\n",
    "def posPattern(corpusSentence):\n",
    "    doc = nlp(corpusSentence)\n",
    "    return doc\n",
    "\n",
    "\n",
    "# def namedEntities(corpusSentence):\n",
    "#     corpusSentence=contract(corpusSentence)\n",
    "#     corpusSentence=lowercase(corpusSentence)\n",
    "# #     tokenized=regTokenize(corpusSentence)\n",
    "    \n",
    "#     doc = nlp(corpusSentence)\n",
    "# #     for i in range(0,5):\n",
    "# #         print(doc[i].pos_,doc[i].lemma_)\n",
    "#     return doc\n",
    "\n",
    "\n",
    "# -----------------------------------------POS Pattern-----------------------------------------\n",
    "def getPosPattern(data_sentences):\n",
    "    sentences_pos=[]\n",
    "    for i in data_sentences:\n",
    "        sent=[]\n",
    "        s=postagging(i)\n",
    "        for j in s:\n",
    "            sent.append(j.pos_)\n",
    "        sentences_pos.append(sent)\n",
    "    return sentences_pos\n",
    "\n",
    "def posGrams(sentence):\n",
    "    \n",
    "    uni=list(ngrams(sentence,1))\n",
    "    bigram=list(ngrams(sentence,2))\n",
    "    trigram=list(ngrams(sentence,3))\n",
    "    \n",
    "#     print('uni:',len(uni),' bi:',len(bigram),'tri:',len(trigram))\n",
    "    grams=[uni,bigram,trigram]\n",
    "    \n",
    "    return grams\n",
    "    \n",
    "def get34grams(sentences_pos):\n",
    "    \n",
    "    three_four_grams=[]\n",
    "    \n",
    "    for sent_pos in sentences_pos:\n",
    "        temp=posGrams(sent_pos)\n",
    "        temp = list(chain(*temp))\n",
    "#         print(temp)\n",
    "        three_four_grams.append(temp)\n",
    "    \n",
    "    return three_four_grams"
   ]
  },
  {
   "cell_type": "markdown",
   "metadata": {},
   "source": [
    "### Dataset Loading"
   ]
  },
  {
   "cell_type": "code",
   "execution_count": 4,
   "metadata": {},
   "outputs": [
    {
     "name": "stdout",
     "output_type": "stream",
     "text": [
      "11112  sentences\n",
      "8889   2223   8889   2223\n"
     ]
    }
   ],
   "source": [
    "dataset=joblib.load('dataset_with_labels.sav')\n",
    "\n",
    "print(len(dataset),' sentences')\n",
    "\n",
    "# print(np.array(dataset)[:,0])\n",
    "X=np.array(dataset)[:,0] # sentences\n",
    "Y=np.array(dataset)[:,1] # labels\n",
    "X_train, X_test, y_train, y_test = train_test_split(X, Y, test_size=0.2)\n",
    "\n",
    "print(len(X_train),' ',len(X_test),' ',len(y_train),' ',len(y_test))"
   ]
  },
  {
   "cell_type": "code",
   "execution_count": 10,
   "metadata": {},
   "outputs": [
    {
     "name": "stdout",
     "output_type": "stream",
     "text": [
      "4989   6123\n"
     ]
    }
   ],
   "source": [
    "dataset_fact=[]\n",
    "dataset_nonfact=[]\n",
    "\n",
    "for i in dataset:\n",
    "    if(i[1]==1):\n",
    "        dataset_fact.append(i)\n",
    "    else:\n",
    "        dataset_nonfact.append(i)\n",
    "\n",
    "print(len(dataset_fact),' ' ,len(dataset_nonfact))\n"
   ]
  },
  {
   "cell_type": "code",
   "execution_count": 26,
   "metadata": {},
   "outputs": [],
   "source": [
    "X_facts=np.array(dataset_fact)[:,0]\n",
    "X_nonfacts=np.array(dataset_nonfact)[:,0]"
   ]
  },
  {
   "cell_type": "code",
   "execution_count": null,
   "metadata": {},
   "outputs": [],
   "source": []
  },
  {
   "cell_type": "code",
   "execution_count": 7,
   "metadata": {},
   "outputs": [],
   "source": [
    "# for i in dataset_fact:\n",
    "#     print(i)"
   ]
  },
  {
   "cell_type": "code",
   "execution_count": 9,
   "metadata": {},
   "outputs": [],
   "source": [
    "# for i in dataset_nonfact:\n",
    "#     print(i)"
   ]
  },
  {
   "cell_type": "code",
   "execution_count": null,
   "metadata": {},
   "outputs": [],
   "source": []
  },
  {
   "cell_type": "markdown",
   "metadata": {},
   "source": [
    "### getting wholeSentences for wholedataset, facts, nonfacts as one sentence"
   ]
  },
  {
   "cell_type": "code",
   "execution_count": 19,
   "metadata": {},
   "outputs": [
    {
     "name": "stdout",
     "output_type": "stream",
     "text": [
      "1635553   663169   972384\n"
     ]
    }
   ],
   "source": [
    "sent_as_string=getWholeString(dataset)\n",
    "\n",
    "facts_as_string=getWholeString(dataset_fact)\n",
    "nonfacts_as_string=getWholeString(dataset_nonfact)\n",
    "\n",
    "print(len(sent_as_string) ,' ', len(facts_as_string),' ',len(nonfacts_as_string))"
   ]
  },
  {
   "cell_type": "code",
   "execution_count": null,
   "metadata": {},
   "outputs": [],
   "source": []
  },
  {
   "cell_type": "markdown",
   "metadata": {},
   "source": [
    "### getting 'nGrams' for 'facts and nonfacts sentences' and converting to 'set'"
   ]
  },
  {
   "cell_type": "code",
   "execution_count": 21,
   "metadata": {},
   "outputs": [
    {
     "name": "stdout",
     "output_type": "stream",
     "text": [
      "uni: 108851  bi: 108850 tri: 108849\n",
      "3\n",
      "326550\n",
      "170942\n",
      "uni: 158694  bi: 158693 tri: 158692\n",
      "3\n",
      "476079\n",
      "225880\n"
     ]
    }
   ],
   "source": [
    "facts_n_grams=getNGrams(facts_as_string)\n",
    "print(len(facts_n_grams))\n",
    "\n",
    "facts_wholeGrams = list(chain(*facts_n_grams))\n",
    "print(len(facts_wholeGrams))\n",
    "\n",
    "facts_wholeGrams_list_set=list(set(facts_wholeGrams))\n",
    "print(len(facts_wholeGrams_list_set))\n",
    "\n",
    "# --------------------------------------------------------------------\n",
    "\n",
    "nonfacts_n_grams=getNGrams(nonfacts_as_string)\n",
    "print(len(nonfacts_n_grams))\n",
    "\n",
    "nonfacts_wholeGrams = list(chain(*nonfacts_n_grams))\n",
    "print(len(nonfacts_wholeGrams))\n",
    "\n",
    "nonfacts_wholeGrams_list_set=list(set(nonfacts_wholeGrams))\n",
    "print(len(nonfacts_wholeGrams_list_set))"
   ]
  },
  {
   "cell_type": "code",
   "execution_count": 35,
   "metadata": {},
   "outputs": [],
   "source": [
    "grams_toVector=['facts_unigram','facts_bigram','facts_trigram','nonfacts_unigram','nonfacts_bigram','nonfacts_trigram']"
   ]
  },
  {
   "cell_type": "markdown",
   "metadata": {},
   "source": [
    "### getting pos tags for 'facts and nonfacts sentences' and convert into 'set'"
   ]
  },
  {
   "cell_type": "code",
   "execution_count": 22,
   "metadata": {},
   "outputs": [
    {
     "name": "stdout",
     "output_type": "stream",
     "text": [
      "309474\n",
      "16\n"
     ]
    }
   ],
   "source": [
    "pos=postagging(sent_as_string)\n",
    "\n",
    "print(len(pos))\n",
    "pos_tag=[]\n",
    "\n",
    "for i in pos:\n",
    "    pos_tag.append(i.pos_)\n",
    "pos_tag_list_set=list(set(pos_tag))\n",
    "print(len(pos_tag_list_set))"
   ]
  },
  {
   "cell_type": "code",
   "execution_count": null,
   "metadata": {},
   "outputs": [],
   "source": []
  },
  {
   "cell_type": "markdown",
   "metadata": {},
   "source": [
    "### getting 'named entities' for 'facts and nonfacts sentences' and convert into 'set'"
   ]
  },
  {
   "cell_type": "code",
   "execution_count": 23,
   "metadata": {},
   "outputs": [
    {
     "name": "stdout",
     "output_type": "stream",
     "text": [
      "15024 --> 17\n"
     ]
    }
   ],
   "source": [
    "# for i in pos.ents:\n",
    "#     print(i.text, i.start_char, i.end_char, i.label_)\n",
    "\n",
    "named_entity=[]\n",
    "for i in pos.ents:\n",
    "    named_entity.append(i.label_)\n",
    "\n",
    "named_entity_list_set=set(named_entity)\n",
    "print(len(named_entity),'-->', len(named_entity_list_set))"
   ]
  },
  {
   "cell_type": "code",
   "execution_count": null,
   "metadata": {},
   "outputs": [],
   "source": []
  },
  {
   "cell_type": "markdown",
   "metadata": {},
   "source": [
    "### getting 'POS Pattern' and getting '3,4-grams' for each sentence and convert into 'set'"
   ]
  },
  {
   "cell_type": "code",
   "execution_count": 27,
   "metadata": {},
   "outputs": [
    {
     "name": "stdout",
     "output_type": "stream",
     "text": [
      "11112\n",
      "4989\n",
      "6123\n"
     ]
    }
   ],
   "source": [
    "wholeX=copy.deepcopy(X)\n",
    "print(len(wholeX))\n",
    "\n",
    "wholeX=getBasicNorm(wholeX)\n",
    "# ----------------------------------------------------\n",
    "\n",
    "\n",
    "wholeXFacts=copy.deepcopy(X_facts)\n",
    "print(len(wholeXFacts))\n",
    "\n",
    "wholeXFacts=getBasicNorm(wholeXFacts)\n",
    "\n",
    "# ----------------------------------------------------\n",
    "wholeXNonFacts=copy.deepcopy(X_nonfacts)\n",
    "print(len(wholeXNonFacts))\n",
    "\n",
    "wholeXNonFacts=getBasicNorm(wholeXNonFacts)\n"
   ]
  },
  {
   "cell_type": "code",
   "execution_count": null,
   "metadata": {},
   "outputs": [],
   "source": []
  },
  {
   "cell_type": "code",
   "execution_count": 28,
   "metadata": {},
   "outputs": [],
   "source": [
    "# posPattern=getPosPattern(wholeX)\n",
    "# ----------------------------------------------------\n",
    "\n",
    "facts_posPattern=getPosPattern(wholeXFacts)\n",
    "# ----------------------------------------------------\n",
    "\n",
    "nonfacts_posPattern=getPosPattern(wholeXNonFacts)\n"
   ]
  },
  {
   "cell_type": "code",
   "execution_count": 29,
   "metadata": {},
   "outputs": [
    {
     "name": "stdout",
     "output_type": "stream",
     "text": [
      "['ADP', 'NUM', 'CCONJ', 'NUM', 'NOUN', 'ADP', 'NOUN', 'NOUN', 'VERB', 'VERB', 'ADP', 'ADJ', 'NOUN', 'ADV', 'PUNCT', 'ADP', 'ADV', 'NUM', 'PART', 'NUM', 'NOUN', 'ADP', 'NOUN', 'VERB', 'PUNCT', 'VERB', 'ADP', 'NOUN', 'ADP', 'DET', 'NOUN', 'NOUN', 'PUNCT']\n",
      "4989\n",
      "['ADJ', 'VERB', 'NOUN', 'VERB', 'ADP', 'DET', 'NOUN', 'VERB', 'VERB', 'ADJ', 'ADV', 'PUNCT']\n",
      "6123\n"
     ]
    }
   ],
   "source": [
    "# for i in posPattern:\n",
    "#     print(i)\n",
    "#     break\n",
    "# print(len(posPattern))\n",
    "\n",
    "# ----------------------------------------------------\n",
    "\n",
    "for i in facts_posPattern:\n",
    "    print(i)\n",
    "    break\n",
    "print(len(facts_posPattern))\n",
    "# ----------------------------------------------------\n",
    "\n",
    "for i in nonfacts_posPattern:\n",
    "    print(i)\n",
    "    break\n",
    "print(len(nonfacts_posPattern))"
   ]
  },
  {
   "cell_type": "code",
   "execution_count": 31,
   "metadata": {},
   "outputs": [
    {
     "name": "stdout",
     "output_type": "stream",
     "text": [
      "4989\n",
      "362975\n",
      "2051 \n",
      "\n",
      "6123\n",
      "532125\n",
      "2103\n"
     ]
    }
   ],
   "source": [
    "# pos_pattern_3_4=get34grams(posPattern)\n",
    "# print(len(pos_pattern_3_4))\n",
    "\n",
    "# pos_pattern_3_4_list=list(chain(*pos_pattern_3_4))\n",
    "# print(len(pos_pattern_3_4_list))\n",
    "\n",
    "# pos_pattern_3_4_list_set=list(set(pos_pattern_3_4_list))\n",
    "# print(len(pos_pattern_3_4_list_set))\n",
    "\n",
    "# ----------------------------------------------------\n",
    "\n",
    "\n",
    "facts_pos_pattern_3_4=get34grams(facts_posPattern)\n",
    "print(len(facts_pos_pattern_3_4))\n",
    "\n",
    "facts_pos_pattern_3_4_list=list(chain(*facts_pos_pattern_3_4))\n",
    "print(len(facts_pos_pattern_3_4_list))\n",
    "\n",
    "facts_pos_pattern_3_4_list_set=list(set(facts_pos_pattern_3_4_list))\n",
    "print(len(facts_pos_pattern_3_4_list_set),'\\n')\n",
    "\n",
    "# ----------------------------------------------------\n",
    "\n",
    "nonfacts_pos_pattern_3_4=get34grams(nonfacts_posPattern)\n",
    "print(len(nonfacts_pos_pattern_3_4))\n",
    "\n",
    "nonfacts_pos_pattern_3_4_list=list(chain(*nonfacts_pos_pattern_3_4))\n",
    "print(len(nonfacts_pos_pattern_3_4_list))\n",
    "\n",
    "nonfacts_pos_pattern_3_4_list_set=list(set(nonfacts_pos_pattern_3_4_list))\n",
    "print(len(nonfacts_pos_pattern_3_4_list_set))"
   ]
  },
  {
   "cell_type": "code",
   "execution_count": 36,
   "metadata": {},
   "outputs": [],
   "source": [
    "pos_toVector=['facts_posPattern_3gram','facts_posPattern_4gram','nonfacts_posPattern_3gram','nonfacts_posPattern_4gram',]"
   ]
  },
  {
   "cell_type": "code",
   "execution_count": null,
   "metadata": {},
   "outputs": [],
   "source": []
  },
  {
   "cell_type": "markdown",
   "metadata": {},
   "source": [
    "### Sentiment Extractor"
   ]
  },
  {
   "cell_type": "code",
   "execution_count": 39,
   "metadata": {},
   "outputs": [],
   "source": [
    "sentiment_scores=['_Sentiment_Feature_']\n"
   ]
  },
  {
   "cell_type": "code",
   "execution_count": null,
   "metadata": {},
   "outputs": [],
   "source": []
  },
  {
   "cell_type": "markdown",
   "metadata": {},
   "source": [
    "### TPattern"
   ]
  },
  {
   "cell_type": "code",
   "execution_count": 51,
   "metadata": {},
   "outputs": [
    {
     "name": "stdout",
     "output_type": "stream",
     "text": [
      "['_case_1_', '_case_2_', '_case_3_', '_case_4_', '_case_5_']\n"
     ]
    }
   ],
   "source": [
    "Tcases=[]\n",
    "for i in range(1,6):\n",
    "    cases='_case_'+str(i)+'_'\n",
    "    Tcases.append(cases)\n",
    "print(Tcases)"
   ]
  },
  {
   "cell_type": "code",
   "execution_count": null,
   "metadata": {},
   "outputs": [],
   "source": []
  },
  {
   "cell_type": "markdown",
   "metadata": {},
   "source": [
    "### ASPattern"
   ]
  },
  {
   "cell_type": "code",
   "execution_count": null,
   "metadata": {},
   "outputs": [],
   "source": []
  },
  {
   "cell_type": "code",
   "execution_count": null,
   "metadata": {},
   "outputs": [],
   "source": []
  },
  {
   "cell_type": "code",
   "execution_count": null,
   "metadata": {},
   "outputs": [],
   "source": []
  },
  {
   "cell_type": "markdown",
   "metadata": {},
   "source": [
    "### Adding into 'Vector'"
   ]
  },
  {
   "cell_type": "code",
   "execution_count": 52,
   "metadata": {},
   "outputs": [
    {
     "name": "stdout",
     "output_type": "stream",
     "text": [
      "grams_toVector: 6\n",
      "pos_tag_list_set: 22\n",
      "named_entity_list_set: 39\n",
      "pos_toVector: 43\n",
      "Tpattern: 48\n",
      "sentiment_scores: 49\n"
     ]
    }
   ],
   "source": [
    "vector=[]\n",
    "\n",
    "# Ngrams features\n",
    "# for i in wholeGrams_list_set:\n",
    "#     vector.append(i)\n",
    "# print('wholeGrams_list_set:',len(vector))\n",
    "\n",
    "for i in grams_toVector:\n",
    "    vector.append(i)\n",
    "print('grams_toVector:',len(vector))\n",
    "\n",
    "# ----------------------------------------------------\n",
    "\n",
    "# pos Tagging features\n",
    "for i in pos_tag_list_set:\n",
    "    vector.append(i)\n",
    "print('pos_tag_list_set:',len(vector))\n",
    "\n",
    "# ----------------------------------------------------\n",
    "\n",
    "# Named Entities features\n",
    "for i in named_entity_list_set:\n",
    "    vector.append(i)\n",
    "print('named_entity_list_set:',len(vector))\n",
    "\n",
    "# ----------------------------------------------------\n",
    "\n",
    "# posPattern features\n",
    "# for i in pos_pattern_3_4_list_set:\n",
    "#     vector.append(i)\n",
    "# print('pos_pattern_3_4_list_set:',len(vector))\n",
    "\n",
    "for i in pos_toVector:\n",
    "    vector.append(i)\n",
    "print('pos_toVector:',len(vector))\n",
    "\n",
    "# ----------------------------------------------------\n",
    "\n",
    "# Tpattern cases features\n",
    "for i in Tcases:\n",
    "    vector.append(i)\n",
    "print('Tpattern:',len(vector))\n",
    "\n",
    "# ----------------------------------------------------\n",
    "\n",
    "# Sentiment Scores features\n",
    "for i in sentiment_scores:\n",
    "    vector.append(i)\n",
    "print('sentiment_scores:',len(vector))"
   ]
  },
  {
   "cell_type": "code",
   "execution_count": 53,
   "metadata": {},
   "outputs": [
    {
     "name": "stdout",
     "output_type": "stream",
     "text": [
      "['facts_unigram', 'facts_bigram', 'facts_trigram', 'nonfacts_unigram', 'nonfacts_bigram', 'nonfacts_trigram', 'ADV', 'CCONJ', 'VERB', 'NOUN', 'ADJ', 'X', 'ADP', 'NUM', 'PUNCT', 'PROPN', 'INTJ', 'DET', 'PART', 'PRON', 'SYM', 'SPACE', 'PERCENT', 'ORG', 'NORP', 'LAW', 'QUANTITY', 'DATE', 'MONEY', 'FAC', 'EVENT', 'TIME', 'PRODUCT', 'LANGUAGE', 'LOC', 'CARDINAL', 'ORDINAL', 'GPE', 'PERSON', 'facts_posPattern_3gram', 'facts_posPattern_4gram', 'nonfacts_posPattern_3gram', 'nonfacts_posPattern_4gram', '_case_1_', '_case_2_', '_case_3_', '_case_4_', '_case_5_', '_Sentiment_Feature_']\n"
     ]
    }
   ],
   "source": [
    "print(vector)"
   ]
  },
  {
   "cell_type": "code",
   "execution_count": null,
   "metadata": {},
   "outputs": [],
   "source": []
  },
  {
   "cell_type": "code",
   "execution_count": 54,
   "metadata": {},
   "outputs": [
    {
     "data": {
      "text/plain": [
       "['vector_dimensions_reduced.sav']"
      ]
     },
     "execution_count": 54,
     "metadata": {},
     "output_type": "execute_result"
    }
   ],
   "source": [
    "vector_file='vector_dimensions_reduced.sav'\n",
    "joblib.dump(vector,vector_file)"
   ]
  },
  {
   "cell_type": "code",
   "execution_count": 55,
   "metadata": {},
   "outputs": [],
   "source": [
    "vector_load=joblib.load('vector_dimensions_reduced.sav')"
   ]
  },
  {
   "cell_type": "code",
   "execution_count": 56,
   "metadata": {},
   "outputs": [
    {
     "data": {
      "text/plain": [
       "49"
      ]
     },
     "execution_count": 56,
     "metadata": {},
     "output_type": "execute_result"
    }
   ],
   "source": [
    "len(vector_load)"
   ]
  },
  {
   "cell_type": "code",
   "execution_count": 57,
   "metadata": {
    "scrolled": true
   },
   "outputs": [
    {
     "name": "stdout",
     "output_type": "stream",
     "text": [
      "facts_unigram\n",
      "facts_bigram\n",
      "facts_trigram\n",
      "nonfacts_unigram\n",
      "nonfacts_bigram\n",
      "nonfacts_trigram\n",
      "ADV\n",
      "CCONJ\n",
      "VERB\n",
      "NOUN\n",
      "ADJ\n",
      "X\n",
      "ADP\n",
      "NUM\n",
      "PUNCT\n",
      "PROPN\n",
      "INTJ\n",
      "DET\n",
      "PART\n",
      "PRON\n",
      "SYM\n",
      "SPACE\n",
      "PERCENT\n",
      "ORG\n",
      "NORP\n",
      "LAW\n",
      "QUANTITY\n",
      "DATE\n",
      "MONEY\n",
      "FAC\n",
      "EVENT\n",
      "TIME\n",
      "PRODUCT\n",
      "LANGUAGE\n",
      "LOC\n",
      "CARDINAL\n",
      "ORDINAL\n",
      "GPE\n",
      "PERSON\n",
      "facts_posPattern_3gram\n",
      "facts_posPattern_4gram\n",
      "nonfacts_posPattern_3gram\n",
      "nonfacts_posPattern_4gram\n",
      "_case_1_\n",
      "_case_2_\n",
      "_case_3_\n",
      "_case_4_\n",
      "_case_5_\n",
      "_Sentiment_Feature_\n"
     ]
    }
   ],
   "source": [
    "for i in vector_load:\n",
    "    print(i)"
   ]
  },
  {
   "cell_type": "markdown",
   "metadata": {},
   "source": [
    "## Feature Extraction"
   ]
  },
  {
   "cell_type": "markdown",
   "metadata": {},
   "source": [
    "### Ngrams"
   ]
  },
  {
   "cell_type": "code",
   "execution_count": null,
   "metadata": {},
   "outputs": [],
   "source": []
  },
  {
   "cell_type": "code",
   "execution_count": null,
   "metadata": {},
   "outputs": [],
   "source": []
  },
  {
   "cell_type": "markdown",
   "metadata": {},
   "source": [
    "### pos Tagging"
   ]
  },
  {
   "cell_type": "code",
   "execution_count": null,
   "metadata": {},
   "outputs": [],
   "source": []
  },
  {
   "cell_type": "code",
   "execution_count": null,
   "metadata": {},
   "outputs": [],
   "source": []
  },
  {
   "cell_type": "markdown",
   "metadata": {},
   "source": [
    "### Named Entities"
   ]
  },
  {
   "cell_type": "code",
   "execution_count": null,
   "metadata": {},
   "outputs": [],
   "source": []
  },
  {
   "cell_type": "code",
   "execution_count": null,
   "metadata": {},
   "outputs": [],
   "source": []
  },
  {
   "cell_type": "markdown",
   "metadata": {},
   "source": [
    "### pos Pattern"
   ]
  },
  {
   "cell_type": "code",
   "execution_count": null,
   "metadata": {},
   "outputs": [],
   "source": []
  },
  {
   "cell_type": "code",
   "execution_count": null,
   "metadata": {},
   "outputs": [],
   "source": []
  },
  {
   "cell_type": "markdown",
   "metadata": {},
   "source": [
    "### TPattern"
   ]
  },
  {
   "cell_type": "code",
   "execution_count": null,
   "metadata": {},
   "outputs": [],
   "source": []
  },
  {
   "cell_type": "code",
   "execution_count": null,
   "metadata": {},
   "outputs": [],
   "source": []
  },
  {
   "cell_type": "markdown",
   "metadata": {},
   "source": [
    "### Sentiment Scores"
   ]
  },
  {
   "cell_type": "code",
   "execution_count": null,
   "metadata": {},
   "outputs": [],
   "source": []
  },
  {
   "cell_type": "code",
   "execution_count": null,
   "metadata": {},
   "outputs": [],
   "source": []
  },
  {
   "cell_type": "markdown",
   "metadata": {},
   "source": [
    "### ASpattern"
   ]
  },
  {
   "cell_type": "code",
   "execution_count": null,
   "metadata": {},
   "outputs": [],
   "source": []
  },
  {
   "cell_type": "code",
   "execution_count": null,
   "metadata": {},
   "outputs": [],
   "source": []
  }
 ],
 "metadata": {
  "kernelspec": {
   "display_name": "Python 3",
   "language": "python",
   "name": "python3"
  },
  "language_info": {
   "codemirror_mode": {
    "name": "ipython",
    "version": 3
   },
   "file_extension": ".py",
   "mimetype": "text/x-python",
   "name": "python",
   "nbconvert_exporter": "python",
   "pygments_lexer": "ipython3",
   "version": "3.6.8"
  }
 },
 "nbformat": 4,
 "nbformat_minor": 2
}
