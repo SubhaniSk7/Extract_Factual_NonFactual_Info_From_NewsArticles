{
 "cells": [
  {
   "cell_type": "code",
   "execution_count": 1,
   "metadata": {},
   "outputs": [],
   "source": [
    "import spacy\n",
    "import corenlp\n",
    "import nltk\n",
    "from nltk import ngrams\n",
    "from nltk.tokenize import sent_tokenize,wordpunct_tokenize,word_tokenize,RegexpTokenizer,TweetTokenizer\n",
    "from nltk.corpus import stopwords \n",
    "from nltk.stem.porter import PorterStemmer\n",
    "from nltk.stem import WordNetLemmatizer\n",
    "\n",
    "import sklearn\n",
    "from sklearn.externals import joblib\n",
    "from sklearn.model_selection import train_test_split\n",
    "\n",
    "import pandas as pd\n",
    "import numpy as np\n",
    "\n",
    "import os,math,glob,re\n",
    "\n",
    "from collections import Counter\n",
    "import re as regex\n",
    "import contractions\n",
    "import copy\n",
    "\n",
    "from itertools import chain\n",
    "\n",
    "nlp = spacy.load('en_core_web_sm')\n",
    "nlp.max_length=9999999\n",
    "\n"
   ]
  },
  {
   "cell_type": "markdown",
   "metadata": {},
   "source": [
    "### Pre-Processing"
   ]
  },
  {
   "cell_type": "code",
   "execution_count": 2,
   "metadata": {},
   "outputs": [],
   "source": [
    "def contract(text):\n",
    "    return contractions.fix(text)\n",
    "\n",
    "def regTokenize(text):\n",
    "    tok=RegexpTokenizer('[A-Za-z0-9]*[.]?\\w+')\n",
    "    return tok.tokenize(text) \n",
    "\n",
    "def lowercase(text):\n",
    "    return text.lower()\n",
    "\n",
    "def lemma(words):\n",
    "    for i in range(0,len(words)):\n",
    "        words[i]=WordNetLemmatizer().lemmatize(words[i])\n",
    "    return words\n",
    "\n",
    "def stemming(words):\n",
    "    porter_stemmer=PorterStemmer()\n",
    "    for i in range(0,len(words)):\n",
    "        words[i]=porter_stemmer.stem(words[i])\n",
    "    return words\n",
    "\n",
    "def tweet(words):\n",
    "    tok=TweetTokenizer()\n",
    "    return tok.tokenize(words)\n",
    "\n",
    "def comma(text):\n",
    "    text = \"\".join(c for c in text if c not in ('!','.',':',',','\"','?','(',')'))\n",
    "    return text\n",
    "\n",
    "def getBasicNorm(text):\n",
    "    for i in range(0,len(text)):\n",
    "        text[i]=contract(text[i])\n",
    "        text[i]=lowercase(text[i])\n",
    "    return text"
   ]
  },
  {
   "cell_type": "markdown",
   "metadata": {},
   "source": [
    "### Feature Extraction functions"
   ]
  },
  {
   "cell_type": "code",
   "execution_count": 3,
   "metadata": {},
   "outputs": [],
   "source": [
    "def getWholeString(data):\n",
    "    string=''\n",
    "    for i in data:\n",
    "        string+=i[0]+' '\n",
    "    return string\n",
    "\n",
    "def getNGrams(corpusSentence):\n",
    "    \n",
    "    corpusSentence=contract(corpusSentence)\n",
    "    corpusSentence=lowercase(corpusSentence)\n",
    "    tokenized=regTokenize(corpusSentence)\n",
    "    \n",
    "    uni=list(ngrams(tokenized,1))\n",
    "    bigram=list(ngrams(tokenized,2))\n",
    "    trigram=list(ngrams(tokenized,3))\n",
    "\n",
    "    print('uni:',len(uni),' bi:',len(bigram),'tri:',len(trigram))\n",
    "    grams=[uni,bigram,trigram]\n",
    "    \n",
    "    return grams\n",
    "\n",
    "\n",
    "def postagging(corpusSentence):\n",
    "    \n",
    "    corpusSentence=contract(corpusSentence)\n",
    "    corpusSentence=lowercase(corpusSentence)\n",
    "#     tokenized=regTokenize(corpusSentence)\n",
    "    \n",
    "    doc = nlp(corpusSentence)\n",
    "#     for i in range(0,5):\n",
    "#         print(doc[i].pos_,doc[i].lemma_)\n",
    "    \n",
    "    return doc\n",
    "\n",
    "def posPattern(corpusSentence):\n",
    "    doc = nlp(corpusSentence)\n",
    "    return doc\n",
    "\n",
    "\n",
    "# def namedEntities(corpusSentence):\n",
    "#     corpusSentence=contract(corpusSentence)\n",
    "#     corpusSentence=lowercase(corpusSentence)\n",
    "# #     tokenized=regTokenize(corpusSentence)\n",
    "    \n",
    "#     doc = nlp(corpusSentence)\n",
    "# #     for i in range(0,5):\n",
    "# #         print(doc[i].pos_,doc[i].lemma_)\n",
    "#     return doc\n",
    "\n",
    "\n",
    "# -----------------------------------------POS Pattern-----------------------------------------\n",
    "def getPosPattern(data_sentences):\n",
    "    sentences_pos=[]\n",
    "    for i in data_sentences:\n",
    "        sent=[]\n",
    "        s=postagging(i)\n",
    "        for j in s:\n",
    "            sent.append(j.pos_)\n",
    "        sentences_pos.append(sent)\n",
    "    return sentences_pos\n",
    "\n",
    "def posGrams(sentence):\n",
    "    \n",
    "    trigram=list(ngrams(sentence,3))\n",
    "    fourgram=list(ngrams(sentence,4))\n",
    "    \n",
    "#     print('uni:',len(uni),' bi:',len(bigram),'tri:',len(trigram))\n",
    "    grams=[trigram,fourgram]\n",
    "    \n",
    "    return grams\n",
    "    \n",
    "def get34grams(sentences_pos):\n",
    "    \n",
    "    three_four_grams=[]\n",
    "    \n",
    "    for sent_pos in sentences_pos:\n",
    "        temp=posGrams(sent_pos)\n",
    "        temp = list(chain(*temp))\n",
    "#         print(temp)\n",
    "        three_four_grams.append(temp)\n",
    "    \n",
    "    return three_four_grams"
   ]
  },
  {
   "cell_type": "code",
   "execution_count": null,
   "metadata": {},
   "outputs": [],
   "source": []
  },
  {
   "cell_type": "code",
   "execution_count": null,
   "metadata": {},
   "outputs": [],
   "source": []
  },
  {
   "cell_type": "markdown",
   "metadata": {},
   "source": [
    "### Dataset Loading"
   ]
  },
  {
   "cell_type": "code",
   "execution_count": 4,
   "metadata": {},
   "outputs": [
    {
     "name": "stdout",
     "output_type": "stream",
     "text": [
      "11112  sentences\n",
      "8889   2223   8889   2223\n"
     ]
    }
   ],
   "source": [
    "dataset=joblib.load('dataset_with_labels.sav')\n",
    "\n",
    "print(len(dataset),' sentences')\n",
    "\n",
    "# print(np.array(dataset)[:,0])\n",
    "X=np.array(dataset)[:,0] # sentences\n",
    "Y=np.array(dataset)[:,1] # labels\n",
    "X_train, X_test, y_train, y_test = train_test_split(X, Y, test_size=0.2,random_state=20)\n",
    "\n",
    "print(len(X_train),' ',len(X_test),' ',len(y_train),' ',len(y_test))"
   ]
  },
  {
   "cell_type": "code",
   "execution_count": 9,
   "metadata": {},
   "outputs": [
    {
     "name": "stdout",
     "output_type": "stream",
     "text": [
      "4989   6123\n",
      "3967   4922\n"
     ]
    }
   ],
   "source": [
    "dataset_fact=[]\n",
    "dataset_nonfact=[]\n",
    "\n",
    "for i in dataset:\n",
    "    if(i[1]==1):\n",
    "        dataset_fact.append(i)\n",
    "    else:\n",
    "        dataset_nonfact.append(i)\n",
    "\n",
    "print(len(dataset_fact),' ' ,len(dataset_nonfact))\n",
    "\n",
    "X_train_facts=[]\n",
    "X_train_nonfacts=[]\n",
    "for i in range(len(X_train)):\n",
    "    temp=[]\n",
    "    if(y_train[i]=='1'):\n",
    "        temp.append(X_train[i])\n",
    "        temp.append(1)\n",
    "        X_train_facts.append(temp)\n",
    "    else:\n",
    "        temp.append(X_train[i])\n",
    "        temp.append(0)\n",
    "        X_train_nonfacts.append(temp)\n",
    "\n",
    "print(len(X_train_facts),' ',len(X_train_nonfacts))\n",
    "        "
   ]
  },
  {
   "cell_type": "code",
   "execution_count": null,
   "metadata": {},
   "outputs": [],
   "source": []
  },
  {
   "cell_type": "code",
   "execution_count": 10,
   "metadata": {},
   "outputs": [],
   "source": [
    "X_facts=np.array(dataset_fact)[:,0]\n",
    "X_nonfacts=np.array(dataset_nonfact)[:,0]\n"
   ]
  },
  {
   "cell_type": "code",
   "execution_count": null,
   "metadata": {},
   "outputs": [],
   "source": []
  },
  {
   "cell_type": "markdown",
   "metadata": {},
   "source": [
    "### getting wholeSentences for wholedataset, facts, nonfacts as one sentence"
   ]
  },
  {
   "cell_type": "code",
   "execution_count": 11,
   "metadata": {},
   "outputs": [
    {
     "name": "stdout",
     "output_type": "stream",
     "text": [
      "1635553   663169   972384   528863   783790\n"
     ]
    }
   ],
   "source": [
    "sent_as_string=getWholeString(dataset)\n",
    "\n",
    "facts_as_string=getWholeString(dataset_fact)\n",
    "nonfacts_as_string=getWholeString(dataset_nonfact)\n",
    "\n",
    "train_facts_as_string=getWholeString(X_train_facts)\n",
    "train_nonfacts_as_string=getWholeString(X_train_nonfacts)\n",
    "\n",
    "\n",
    "print(len(sent_as_string) ,' ', len(facts_as_string),' ',len(nonfacts_as_string),' ',len(train_facts_as_string),' ',len(train_nonfacts_as_string))\n"
   ]
  },
  {
   "cell_type": "code",
   "execution_count": null,
   "metadata": {},
   "outputs": [],
   "source": []
  },
  {
   "cell_type": "markdown",
   "metadata": {},
   "source": [
    "### getting 'nGrams' for 'facts and nonfacts sentences' and converting to 'set'"
   ]
  },
  {
   "cell_type": "code",
   "execution_count": 15,
   "metadata": {},
   "outputs": [
    {
     "name": "stdout",
     "output_type": "stream",
     "text": [
      "uni: 108851  bi: 108850 tri: 108849\n",
      "11292   63621   96029 \n",
      "===================\n",
      "uni: 158694  bi: 158693 tri: 158692\n",
      "12411   80501   132968 \n",
      "===================\n",
      "uni: 86806  bi: 86805 tri: 86804\n",
      "10164   53161   78045 \n",
      "===================\n",
      "uni: 127875  bi: 127874 tri: 127873\n",
      "11310   68124   109043 \n",
      "===================\n"
     ]
    }
   ],
   "source": [
    "facts_n_grams = getNGrams(facts_as_string)\n",
    "facts_unigram, facts_bigram, facts_trigram = list(set(facts_n_grams[0])), list(set(facts_n_grams[1])), list(set(facts_n_grams[2]))\n",
    "print(len(facts_unigram), ' ', len(facts_bigram), ' ', len(facts_trigram),'\\n===================')\n",
    "\n",
    "nonfacts_n_grams = getNGrams(nonfacts_as_string)\n",
    "nonfacts_unigram, nonfacts_bigram, nonfacts_trigram = list(set(nonfacts_n_grams[0])), list(set(nonfacts_n_grams[1])), list(set(nonfacts_n_grams[2]))\n",
    "print(len(nonfacts_unigram), ' ', len(nonfacts_bigram), ' ', len(nonfacts_trigram),'\\n===================')\n",
    "# --------------------------------------------------------------------\n",
    "\n",
    "train_facts_n_grams = getNGrams(train_facts_as_string)\n",
    "train_facts_unigram, train_facts_bigram,train_facts_trigram=list(set(train_facts_n_grams[0])),list(set(train_facts_n_grams[1])),list(set(train_facts_n_grams[2]))\n",
    "print(len(train_facts_unigram), ' ', len(train_facts_bigram), ' ', len(train_facts_trigram),'\\n===================')\n",
    "\n",
    "train_nonfacts_n_grams = getNGrams(train_nonfacts_as_string)\n",
    "train_nonfacts_unigram, train_nonfacts_bigram,train_nonfacts_trigram=list(set(train_nonfacts_n_grams[0])),list(set(train_nonfacts_n_grams[1])),list(set(train_nonfacts_n_grams[2]))\n",
    "print(len(train_nonfacts_unigram), ' ', len(train_nonfacts_bigram), ' ', len(train_nonfacts_trigram),'\\n===================')"
   ]
  },
  {
   "cell_type": "code",
   "execution_count": 17,
   "metadata": {},
   "outputs": [
    {
     "name": "stdout",
     "output_type": "stream",
     "text": [
      "170942\n",
      "225880\n",
      "141370\n",
      "188477\n"
     ]
    }
   ],
   "source": [
    "facts_wholeGrams = list(chain(*facts_n_grams))\n",
    "facts_wholeGrams_list_set=list(set(facts_wholeGrams))\n",
    "print(len(facts_wholeGrams_list_set))\n",
    "\n",
    "nonfacts_wholeGrams = list(chain(*nonfacts_n_grams))\n",
    "nonfacts_wholeGrams_list_set=list(set(nonfacts_wholeGrams))\n",
    "print(len(nonfacts_wholeGrams_list_set))\n",
    "\n",
    "# --------------------------------------------------------------------\n",
    "\n",
    "train_facts_wholeGrams=list(chain(*train_facts_n_grams))\n",
    "train_facts_wholeGrams_list_set=list(set(train_facts_wholeGrams))\n",
    "print(len(train_facts_wholeGrams_list_set))\n",
    "\n",
    "train_nonfacts_wholeGrams=list(chain(*train_nonfacts_n_grams))\n",
    "train_nonfacts_wholeGrams_list_set=list(set(train_nonfacts_wholeGrams))\n",
    "print(len(train_nonfacts_wholeGrams_list_set))"
   ]
  },
  {
   "cell_type": "code",
   "execution_count": 18,
   "metadata": {},
   "outputs": [],
   "source": [
    "grams_toVector=['facts_unigram','facts_bigram','facts_trigram','nonfacts_unigram','nonfacts_bigram','nonfacts_trigram']"
   ]
  },
  {
   "cell_type": "markdown",
   "metadata": {},
   "source": [
    "### getting pos tags and convert into 'set'"
   ]
  },
  {
   "cell_type": "code",
   "execution_count": 20,
   "metadata": {},
   "outputs": [
    {
     "name": "stdout",
     "output_type": "stream",
     "text": [
      "309474\n",
      "16\n"
     ]
    }
   ],
   "source": [
    "pos=postagging(sent_as_string)\n",
    "\n",
    "print(len(pos))\n",
    "pos_tag=[]\n",
    "\n",
    "for i in pos:\n",
    "    pos_tag.append(i.pos_)\n",
    "pos_tag_list_set=list(set(pos_tag))\n",
    "print(len(pos_tag_list_set))"
   ]
  },
  {
   "cell_type": "markdown",
   "metadata": {},
   "source": [
    "### getting 'named entities' for 'facts and nonfacts sentences' and convert into 'set'"
   ]
  },
  {
   "cell_type": "code",
   "execution_count": null,
   "metadata": {},
   "outputs": [],
   "source": [
    "# for i in pos.ents:\n",
    "#     print(i.text, i.start_char, i.end_char, i.label_)\n",
    "\n",
    "named_entity=[]\n",
    "for i in pos.ents:\n",
    "    named_entity.append(i.label_)\n",
    "\n",
    "named_entity_list_set=list(set(named_entity))\n",
    "print(len(named_entity),'-->', len(named_entity_list_set))"
   ]
  },
  {
   "cell_type": "code",
   "execution_count": null,
   "metadata": {},
   "outputs": [],
   "source": [
    "print(named_entity_list_set)"
   ]
  },
  {
   "cell_type": "markdown",
   "metadata": {},
   "source": [
    "### getting 'POS Pattern' and getting '3,4-grams' for each sentence and convert into 'set'"
   ]
  },
  {
   "cell_type": "code",
   "execution_count": null,
   "metadata": {},
   "outputs": [],
   "source": [
    "wholeX=copy.deepcopy(X)\n",
    "wholeX=getBasicNorm(wholeX)\n",
    "# ----------------------------------------------------\n",
    "\n",
    "wholeXFacts=copy.deepcopy(X_facts)\n",
    "wholeXFacts=getBasicNorm(wholeXFacts)\n",
    "\n",
    "# ----------------------------------------------------\n",
    "wholeXNonFacts=copy.deepcopy(X_nonfacts)\n",
    "wholeXNonFacts=getBasicNorm(wholeXNonFacts)\n",
    "\n",
    "# ----------------------------------------------------\n",
    "\n",
    "wholeXTrainFacts=copy.deepcopy(X_facts)\n",
    "wholeXTrainFacts=getBasicNorm(wholeXTrainFacts)"
   ]
  },
  {
   "cell_type": "code",
   "execution_count": null,
   "metadata": {},
   "outputs": [],
   "source": [
    "facts_posPattern=getPosPattern(wholeXFacts)\n",
    "# ----------------------------------------------------\n",
    "\n",
    "nonfacts_posPattern=getPosPattern(wholeXNonFacts)"
   ]
  },
  {
   "cell_type": "code",
   "execution_count": null,
   "metadata": {},
   "outputs": [],
   "source": [
    "for i in facts_posPattern:\n",
    "    print(i)\n",
    "    break\n",
    "print(len(facts_posPattern))\n",
    "# ----------------------------------------------------\n",
    "\n",
    "for i in nonfacts_posPattern:\n",
    "    print(i)\n",
    "    break\n",
    "print(len(nonfacts_posPattern))"
   ]
  },
  {
   "cell_type": "code",
   "execution_count": null,
   "metadata": {},
   "outputs": [],
   "source": [
    "facts_pos_pattern_3_4=get34grams(facts_posPattern)\n",
    "print(len(facts_pos_pattern_3_4))\n",
    "\n",
    "facts_pos_pattern_3_4_list=list(chain(*facts_pos_pattern_3_4))\n",
    "print(len(facts_pos_pattern_3_4_list))\n",
    "\n",
    "facts_pos_pattern_3_4_list_set=list(set(facts_pos_pattern_3_4_list))\n",
    "print(len(facts_pos_pattern_3_4_list_set),'\\n')\n",
    "\n",
    "# ----------------------------------------------------\n",
    "\n",
    "nonfacts_pos_pattern_3_4=get34grams(nonfacts_posPattern)\n",
    "print(len(nonfacts_pos_pattern_3_4))\n",
    "\n",
    "nonfacts_pos_pattern_3_4_list=list(chain(*nonfacts_pos_pattern_3_4))\n",
    "print(len(nonfacts_pos_pattern_3_4_list))\n",
    "\n",
    "nonfacts_pos_pattern_3_4_list_set=list(set(nonfacts_pos_pattern_3_4_list))\n",
    "print(len(nonfacts_pos_pattern_3_4_list_set))"
   ]
  },
  {
   "cell_type": "code",
   "execution_count": null,
   "metadata": {},
   "outputs": [],
   "source": [
    "pos_toVector=['facts_posPattern_3gram','facts_posPattern_4gram','nonfacts_posPattern_3gram','nonfacts_posPattern_4gram',]"
   ]
  },
  {
   "cell_type": "markdown",
   "metadata": {},
   "source": [
    "### Sentiment Extractor"
   ]
  },
  {
   "cell_type": "code",
   "execution_count": null,
   "metadata": {},
   "outputs": [],
   "source": [
    "sentiment_scores=['_Sentiment_Feature_']\n"
   ]
  },
  {
   "cell_type": "markdown",
   "metadata": {},
   "source": [
    "### TPattern"
   ]
  },
  {
   "cell_type": "code",
   "execution_count": null,
   "metadata": {},
   "outputs": [],
   "source": [
    "Tcases=[]\n",
    "for i in range(1,6):\n",
    "    cases='_case_'+str(i)+'_'\n",
    "    Tcases.append(cases)\n",
    "print(Tcases)"
   ]
  },
  {
   "cell_type": "markdown",
   "metadata": {},
   "source": [
    "### ASPattern"
   ]
  },
  {
   "cell_type": "code",
   "execution_count": null,
   "metadata": {},
   "outputs": [],
   "source": []
  },
  {
   "cell_type": "markdown",
   "metadata": {},
   "source": [
    "### Adding into 'Vector'"
   ]
  },
  {
   "cell_type": "code",
   "execution_count": null,
   "metadata": {},
   "outputs": [],
   "source": [
    "vector=[]\n",
    "\n",
    "# Ngrams features\n",
    "# for i in wholeGrams_list_set:\n",
    "#     vector.append(i)\n",
    "# print('wholeGrams_list_set:',len(vector))\n",
    "\n",
    "for i in grams_toVector:\n",
    "    vector.append(i)\n",
    "print('grams_toVector:',len(vector))\n",
    "\n",
    "# ----------------------------------------------------\n",
    "\n",
    "# pos Tagging features\n",
    "for i in pos_tag_list_set:\n",
    "    vector.append(i)\n",
    "print('pos_tag_list_set:',len(vector))\n",
    "\n",
    "# ----------------------------------------------------\n",
    "\n",
    "# Named Entities features\n",
    "for i in named_entity_list_set:\n",
    "    vector.append(i)\n",
    "print('named_entity_list_set:',len(vector))\n",
    "\n",
    "# ----------------------------------------------------\n",
    "\n",
    "# posPattern features\n",
    "# for i in pos_pattern_3_4_list_set:\n",
    "#     vector.append(i)\n",
    "# print('pos_pattern_3_4_list_set:',len(vector))\n",
    "\n",
    "for i in pos_toVector:\n",
    "    vector.append(i)\n",
    "print('pos_toVector:',len(vector))\n",
    "\n",
    "# ----------------------------------------------------\n",
    "\n",
    "# Tpattern cases features\n",
    "for i in Tcases:\n",
    "    vector.append(i)\n",
    "print('Tpattern:',len(vector))\n",
    "\n",
    "# ----------------------------------------------------\n",
    "\n",
    "# Sentiment Scores features\n",
    "for i in sentiment_scores:\n",
    "    vector.append(i)\n",
    "print('sentiment_scores:',len(vector))"
   ]
  },
  {
   "cell_type": "code",
   "execution_count": null,
   "metadata": {},
   "outputs": [],
   "source": [
    "print(vector)"
   ]
  },
  {
   "cell_type": "markdown",
   "metadata": {},
   "source": [
    "### Saving(dumping)"
   ]
  },
  {
   "cell_type": "code",
   "execution_count": null,
   "metadata": {},
   "outputs": [],
   "source": [
    "dataset_fact_file='sav/dataset_fact_reduced.sav'\n",
    "dataset_nonfact_file='sav/dataset_nonfact_reduced.sav'\n",
    "\n",
    "X_file='sav/X_reduced.sav'#only sentences->not labels\n",
    "X_facts_file='sav/X_facts_reduced.sav'\n",
    "X_nonfacts_file='sav/X_nonfacts_reduced.sav'\n",
    "\n",
    "\n",
    "joblib.dump(dataset_fact,dataset_fact_file)\n",
    "joblib.dump(dataset_nonfact,dataset_nonfact_file)\n",
    "joblib.dump(X,X_file)\n",
    "joblib.dump(X_facts,X_facts_file)\n",
    "joblib.dump(X_nonfacts,X_nonfacts_file)\n"
   ]
  },
  {
   "cell_type": "code",
   "execution_count": null,
   "metadata": {},
   "outputs": [],
   "source": [
    "sent_as_string_file='sav/sent_as_string_reduced.sav'\n",
    "facts_as_string_file='sav/facts_as_string_reduced.sav'\n",
    "nonfacts_as_string_file='sav/nonfacts_as_string_reduced.sav'\n",
    "\n",
    "joblib.dump(sent_as_string,sent_as_string_file)\n",
    "joblib.dump(facts_as_string,facts_as_string_file)\n",
    "joblib.dump(nonfacts_as_string,nonfacts_as_string_file)"
   ]
  },
  {
   "cell_type": "code",
   "execution_count": null,
   "metadata": {},
   "outputs": [],
   "source": [
    "facts_unigram_file='sav/facts_unigram.sav'\n",
    "facts_bigram_file='sav/facts_bigram.sav'\n",
    "facts_trigram_file='sav/facts_trigram.sav'\n",
    "joblib.dump(facts_unigram,facts_unigram_file)\n",
    "joblib.dump(facts_bigram,facts_bigram_file)\n",
    "joblib.dump(facts_trigram,facts_trigram_file)\n",
    "\n",
    "nonfacts_unigram_file='sav/nonfacts_unigram.sav'\n",
    "nonfacts_bigram_file='sav/nonfacts_bigram.sav'\n",
    "nonfacts_trigram_file='sav/nonfacts_trigram.sav'\n",
    "joblib.dump(nonfacts_unigram,nonfacts_unigram_file)\n",
    "joblib.dump(nonfacts_bigram,nonfacts_bigram_file)\n",
    "joblib.dump(nonfacts_trigram,nonfacts_trigram_file)\n",
    "\n",
    "facts_wholeGrams_list_set_file='sav/facts_wholeGrams_list_set_reduced.sav'\n",
    "nonfacts_wholeGrams_list_set_file='sav/nonfacts_wholeGrams_list_set_reduced.sav'\n",
    "joblib.dump(facts_wholeGrams_list_set,facts_wholeGrams_list_set_file)\n",
    "joblib.dump(nonfacts_wholeGrams_list_set,nonfacts_wholeGrams_list_set_file)"
   ]
  },
  {
   "cell_type": "code",
   "execution_count": null,
   "metadata": {},
   "outputs": [],
   "source": [
    "pos_tag_list_set_file='sav/pos_tag_list_set_reduced.sav'\n",
    "joblib.dump(pos_tag_list_set,pos_tag_list_set_file)"
   ]
  },
  {
   "cell_type": "code",
   "execution_count": null,
   "metadata": {},
   "outputs": [],
   "source": [
    "named_entity_list_set_file='sav/named_entity_list_set_reduced.sav'\n",
    "joblib.dump(named_entity_list_set,named_entity_list_set_file)"
   ]
  },
  {
   "cell_type": "code",
   "execution_count": null,
   "metadata": {},
   "outputs": [],
   "source": [
    "facts_pos_pattern_3_4_list_set_file='sav/facts_pos_pattern_3_4_list_set_reduced.sav'\n",
    "nonfacts_pos_pattern_3_4_list_set_file='sav/nonfacts_pos_pattern_3_4_list_set_reduced.sav'\n",
    "\n",
    "joblib.dump(facts_pos_pattern_3_4_list_set,facts_pos_pattern_3_4_list_set_file)\n",
    "joblib.dump(nonfacts_pos_pattern_3_4_list_set,nonfacts_pos_pattern_3_4_list_set_file)"
   ]
  },
  {
   "cell_type": "code",
   "execution_count": null,
   "metadata": {},
   "outputs": [],
   "source": [
    "vector_file='sav/vector_dimensions_reduced.sav'\n",
    "joblib.dump(vector,vector_file)"
   ]
  },
  {
   "cell_type": "code",
   "execution_count": null,
   "metadata": {},
   "outputs": [],
   "source": []
  },
  {
   "cell_type": "code",
   "execution_count": null,
   "metadata": {},
   "outputs": [],
   "source": [
    "vector_load=joblib.load('vector_dimensions_reduced.sav')"
   ]
  },
  {
   "cell_type": "code",
   "execution_count": null,
   "metadata": {},
   "outputs": [],
   "source": [
    "len(vector_load)"
   ]
  }
 ],
 "metadata": {
  "kernelspec": {
   "display_name": "Python 3",
   "language": "python",
   "name": "python3"
  },
  "language_info": {
   "codemirror_mode": {
    "name": "ipython",
    "version": 3
   },
   "file_extension": ".py",
   "mimetype": "text/x-python",
   "name": "python",
   "nbconvert_exporter": "python",
   "pygments_lexer": "ipython3",
   "version": "3.6.8"
  }
 },
 "nbformat": 4,
 "nbformat_minor": 2
}
