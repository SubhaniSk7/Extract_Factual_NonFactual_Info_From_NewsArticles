{
 "cells": [
  {
   "cell_type": "code",
   "execution_count": 1,
   "metadata": {},
   "outputs": [],
   "source": [
    "import spacy\n",
    "import corenlp\n",
    "import nltk\n",
    "from nltk import ngrams\n",
    "from nltk.tokenize import sent_tokenize,wordpunct_tokenize,word_tokenize,RegexpTokenizer,TweetTokenizer\n",
    "from nltk.corpus import stopwords \n",
    "from nltk.stem.porter import PorterStemmer\n",
    "from nltk.stem import WordNetLemmatizer\n",
    "\n",
    "import sklearn\n",
    "from sklearn.externals import joblib\n",
    "from sklearn.model_selection import train_test_split\n",
    "\n",
    "import pandas as pd\n",
    "import numpy as np\n",
    "\n",
    "import os,math,glob,re\n",
    "\n",
    "from collections import Counter\n",
    "import re as regex\n",
    "import contractions\n",
    "import copy\n",
    "\n",
    "from itertools import chain\n",
    "\n",
    "nlp = spacy.load('en_core_web_sm')\n",
    "nlp.max_length=9999999\n",
    "\n"
   ]
  },
  {
   "cell_type": "markdown",
   "metadata": {},
   "source": [
    "### Pre-Processing"
   ]
  },
  {
   "cell_type": "code",
   "execution_count": 2,
   "metadata": {},
   "outputs": [],
   "source": [
    "def contract(text):\n",
    "    return contractions.fix(text)\n",
    "\n",
    "def regTokenize(text):\n",
    "    tok=RegexpTokenizer('[A-Za-z0-9]*[.]?\\w+')\n",
    "    return tok.tokenize(text) \n",
    "\n",
    "def lowercase(text):\n",
    "    return text.lower()\n",
    "\n",
    "def lemma(words):\n",
    "    for i in range(0,len(words)):\n",
    "        words[i]=WordNetLemmatizer().lemmatize(words[i])\n",
    "    return words\n",
    "\n",
    "def stemming(words):\n",
    "    porter_stemmer=PorterStemmer()\n",
    "    for i in range(0,len(words)):\n",
    "        words[i]=porter_stemmer.stem(words[i])\n",
    "    return words\n",
    "\n",
    "def tweet(words):\n",
    "    tok=TweetTokenizer()\n",
    "    return tok.tokenize(words)\n",
    "\n",
    "def comma(text):\n",
    "    text = \"\".join(c for c in text if c not in ('!','.',':',',','\"','?','(',')'))\n",
    "    return text\n",
    "\n",
    "def getBasicNorm(text):\n",
    "    for i in range(0,len(text)):\n",
    "        text[i]=contract(text[i])\n",
    "        text[i]=lowercase(text[i])\n",
    "    return text"
   ]
  },
  {
   "cell_type": "markdown",
   "metadata": {},
   "source": [
    "### Feature Extraction functions"
   ]
  },
  {
   "cell_type": "code",
   "execution_count": 3,
   "metadata": {},
   "outputs": [],
   "source": [
    "def getWholeString(data):\n",
    "    string=''\n",
    "    for i in data:\n",
    "        string+=i[0]+' '\n",
    "    return string\n",
    "\n",
    "def getNGrams(corpusSentence):\n",
    "    \n",
    "    corpusSentence=contract(corpusSentence)\n",
    "    corpusSentence=lowercase(corpusSentence)\n",
    "    tokenized=regTokenize(corpusSentence)\n",
    "    \n",
    "    uni=list(ngrams(tokenized,1))\n",
    "    bigram=list(ngrams(tokenized,2))\n",
    "    trigram=list(ngrams(tokenized,3))\n",
    "\n",
    "    print('uni:',len(uni),' bi:',len(bigram),'tri:',len(trigram))\n",
    "    grams=[uni,bigram,trigram]\n",
    "    \n",
    "    return grams\n",
    "\n",
    "\n",
    "def postagging(corpusSentence):\n",
    "    \n",
    "    corpusSentence=contract(corpusSentence)\n",
    "    corpusSentence=lowercase(corpusSentence)\n",
    "#     tokenized=regTokenize(corpusSentence)\n",
    "    \n",
    "    doc = nlp(corpusSentence)\n",
    "#     for i in range(0,5):\n",
    "#         print(doc[i].pos_,doc[i].lemma_)\n",
    "    \n",
    "    return doc\n",
    "\n",
    "def posPattern(corpusSentence):\n",
    "    doc = nlp(corpusSentence)\n",
    "    return doc\n",
    "\n",
    "\n",
    "# def namedEntities(corpusSentence):\n",
    "#     corpusSentence=contract(corpusSentence)\n",
    "#     corpusSentence=lowercase(corpusSentence)\n",
    "# #     tokenized=regTokenize(corpusSentence)\n",
    "    \n",
    "#     doc = nlp(corpusSentence)\n",
    "# #     for i in range(0,5):\n",
    "# #         print(doc[i].pos_,doc[i].lemma_)\n",
    "#     return doc\n",
    "\n",
    "\n",
    "# -----------------------------------------POS Pattern-----------------------------------------\n",
    "def getPosPattern(data_sentences):\n",
    "    sentences_pos=[]\n",
    "    for i in data_sentences:\n",
    "        sent=[]\n",
    "        s=postagging(i)\n",
    "        for j in s:\n",
    "            sent.append(j.pos_)\n",
    "        sentences_pos.append(sent)\n",
    "    return sentences_pos\n",
    "\n",
    "def posGrams(sentence):\n",
    "    \n",
    "    trigram=list(ngrams(sentence,3))\n",
    "    fourgram=list(ngrams(sentence,4))\n",
    "    \n",
    "#     print('uni:',len(uni),' bi:',len(bigram),'tri:',len(trigram))\n",
    "    grams=[trigram,fourgram]\n",
    "    \n",
    "    return grams\n",
    "    \n",
    "def get34grams(sentences_pos):\n",
    "    \n",
    "    three_four_grams=[]\n",
    "    \n",
    "    for sent_pos in sentences_pos:\n",
    "        temp=posGrams(sent_pos)\n",
    "        temp = list(chain(*temp))\n",
    "#         print(temp)\n",
    "        three_four_grams.append(temp)\n",
    "    \n",
    "    return three_four_grams"
   ]
  },
  {
   "cell_type": "code",
   "execution_count": null,
   "metadata": {},
   "outputs": [],
   "source": []
  },
  {
   "cell_type": "code",
   "execution_count": null,
   "metadata": {},
   "outputs": [],
   "source": []
  },
  {
   "cell_type": "markdown",
   "metadata": {},
   "source": [
    "### Dataset Loading"
   ]
  },
  {
   "cell_type": "code",
   "execution_count": 4,
   "metadata": {},
   "outputs": [
    {
     "name": "stdout",
     "output_type": "stream",
     "text": [
      "11112  sentences\n",
      "8889   2223   8889   2223\n"
     ]
    }
   ],
   "source": [
    "dataset=joblib.load('dataset_with_labels.sav')\n",
    "\n",
    "print(len(dataset),' sentences')\n",
    "\n",
    "# print(np.array(dataset)[:,0])\n",
    "X=np.array(dataset)[:,0] # sentences\n",
    "Y=np.array(dataset)[:,1] # labels\n",
    "X_train, X_test, y_train, y_test = train_test_split(X, Y, test_size=0.2)\n",
    "\n",
    "print(len(X_train),' ',len(X_test),' ',len(y_train),' ',len(y_test))"
   ]
  },
  {
   "cell_type": "code",
   "execution_count": 5,
   "metadata": {},
   "outputs": [
    {
     "name": "stdout",
     "output_type": "stream",
     "text": [
      "4989   6123\n"
     ]
    }
   ],
   "source": [
    "dataset_fact=[]\n",
    "dataset_nonfact=[]\n",
    "\n",
    "for i in dataset:\n",
    "    if(i[1]==1):\n",
    "        dataset_fact.append(i)\n",
    "    else:\n",
    "        dataset_nonfact.append(i)\n",
    "\n",
    "print(len(dataset_fact),' ' ,len(dataset_nonfact))\n"
   ]
  },
  {
   "cell_type": "code",
   "execution_count": 6,
   "metadata": {},
   "outputs": [],
   "source": [
    "X_facts=np.array(dataset_fact)[:,0]\n",
    "X_nonfacts=np.array(dataset_nonfact)[:,0]"
   ]
  },
  {
   "cell_type": "code",
   "execution_count": null,
   "metadata": {},
   "outputs": [],
   "source": []
  },
  {
   "cell_type": "markdown",
   "metadata": {},
   "source": [
    "### getting wholeSentences for wholedataset, facts, nonfacts as one sentence"
   ]
  },
  {
   "cell_type": "code",
   "execution_count": 7,
   "metadata": {},
   "outputs": [
    {
     "name": "stdout",
     "output_type": "stream",
     "text": [
      "1635553   663169   972384\n"
     ]
    }
   ],
   "source": [
    "sent_as_string=getWholeString(dataset)\n",
    "\n",
    "facts_as_string=getWholeString(dataset_fact)\n",
    "nonfacts_as_string=getWholeString(dataset_nonfact)\n",
    "\n",
    "print(len(sent_as_string) ,' ', len(facts_as_string),' ',len(nonfacts_as_string))"
   ]
  },
  {
   "cell_type": "code",
   "execution_count": null,
   "metadata": {},
   "outputs": [],
   "source": []
  },
  {
   "cell_type": "markdown",
   "metadata": {},
   "source": [
    "### getting 'nGrams' for 'facts and nonfacts sentences' and converting to 'set'"
   ]
  },
  {
   "cell_type": "code",
   "execution_count": 8,
   "metadata": {},
   "outputs": [
    {
     "name": "stdout",
     "output_type": "stream",
     "text": [
      "uni: 108851  bi: 108850 tri: 108849\n",
      "3\n",
      "326550\n",
      "170942\n",
      "uni: 158694  bi: 158693 tri: 158692\n",
      "3\n",
      "476079\n",
      "225880\n"
     ]
    }
   ],
   "source": [
    "facts_n_grams=getNGrams(facts_as_string)\n",
    "print(len(facts_n_grams))\n",
    "\n",
    "facts_wholeGrams = list(chain(*facts_n_grams))\n",
    "print(len(facts_wholeGrams))\n",
    "\n",
    "facts_wholeGrams_list_set=list(set(facts_wholeGrams))\n",
    "print(len(facts_wholeGrams_list_set))\n",
    "\n",
    "# --------------------------------------------------------------------\n",
    "\n",
    "nonfacts_n_grams=getNGrams(nonfacts_as_string)\n",
    "print(len(nonfacts_n_grams))\n",
    "\n",
    "nonfacts_wholeGrams = list(chain(*nonfacts_n_grams))\n",
    "print(len(nonfacts_wholeGrams))\n",
    "\n",
    "nonfacts_wholeGrams_list_set=list(set(nonfacts_wholeGrams))\n",
    "print(len(nonfacts_wholeGrams_list_set))"
   ]
  },
  {
   "cell_type": "code",
   "execution_count": 9,
   "metadata": {},
   "outputs": [],
   "source": [
    "grams_toVector=['facts_unigram','facts_bigram','facts_trigram','nonfacts_unigram','nonfacts_bigram','nonfacts_trigram']"
   ]
  },
  {
   "cell_type": "markdown",
   "metadata": {},
   "source": [
    "### getting pos tags and convert into 'set'"
   ]
  },
  {
   "cell_type": "code",
   "execution_count": 10,
   "metadata": {},
   "outputs": [
    {
     "name": "stdout",
     "output_type": "stream",
     "text": [
      "309474\n",
      "16\n"
     ]
    }
   ],
   "source": [
    "pos=postagging(sent_as_string)\n",
    "\n",
    "print(len(pos))\n",
    "pos_tag=[]\n",
    "\n",
    "for i in pos:\n",
    "    pos_tag.append(i.pos_)\n",
    "pos_tag_list_set=list(set(pos_tag))\n",
    "print(len(pos_tag_list_set))"
   ]
  },
  {
   "cell_type": "code",
   "execution_count": null,
   "metadata": {},
   "outputs": [],
   "source": []
  },
  {
   "cell_type": "markdown",
   "metadata": {},
   "source": [
    "### getting 'named entities' for 'facts and nonfacts sentences' and convert into 'set'"
   ]
  },
  {
   "cell_type": "code",
   "execution_count": 11,
   "metadata": {},
   "outputs": [
    {
     "name": "stdout",
     "output_type": "stream",
     "text": [
      "15024 --> 17\n"
     ]
    }
   ],
   "source": [
    "# for i in pos.ents:\n",
    "#     print(i.text, i.start_char, i.end_char, i.label_)\n",
    "\n",
    "named_entity=[]\n",
    "for i in pos.ents:\n",
    "    named_entity.append(i.label_)\n",
    "\n",
    "named_entity_list_set=list(set(named_entity))\n",
    "print(len(named_entity),'-->', len(named_entity_list_set))"
   ]
  },
  {
   "cell_type": "code",
   "execution_count": 12,
   "metadata": {},
   "outputs": [
    {
     "name": "stdout",
     "output_type": "stream",
     "text": [
      "['MONEY', 'EVENT', 'FAC', 'NORP', 'PERCENT', 'CARDINAL', 'PRODUCT', 'DATE', 'TIME', 'LAW', 'LOC', 'LANGUAGE', 'ORG', 'QUANTITY', 'GPE', 'PERSON', 'ORDINAL']\n"
     ]
    }
   ],
   "source": [
    "print(named_entity_list_set)"
   ]
  },
  {
   "cell_type": "markdown",
   "metadata": {},
   "source": [
    "### getting 'POS Pattern' and getting '3,4-grams' for each sentence and convert into 'set'"
   ]
  },
  {
   "cell_type": "code",
   "execution_count": 13,
   "metadata": {},
   "outputs": [
    {
     "name": "stdout",
     "output_type": "stream",
     "text": [
      "11112\n",
      "4989\n",
      "6123\n"
     ]
    }
   ],
   "source": [
    "wholeX=copy.deepcopy(X)\n",
    "print(len(wholeX))\n",
    "\n",
    "wholeX=getBasicNorm(wholeX)\n",
    "# ----------------------------------------------------\n",
    "\n",
    "\n",
    "wholeXFacts=copy.deepcopy(X_facts)\n",
    "print(len(wholeXFacts))\n",
    "\n",
    "wholeXFacts=getBasicNorm(wholeXFacts)\n",
    "\n",
    "# ----------------------------------------------------\n",
    "wholeXNonFacts=copy.deepcopy(X_nonfacts)\n",
    "print(len(wholeXNonFacts))\n",
    "\n",
    "wholeXNonFacts=getBasicNorm(wholeXNonFacts)\n"
   ]
  },
  {
   "cell_type": "code",
   "execution_count": null,
   "metadata": {},
   "outputs": [],
   "source": []
  },
  {
   "cell_type": "code",
   "execution_count": 14,
   "metadata": {},
   "outputs": [],
   "source": [
    "# posPattern=getPosPattern(wholeX)\n",
    "# ----------------------------------------------------\n",
    "\n",
    "facts_posPattern=getPosPattern(wholeXFacts)\n",
    "# ----------------------------------------------------\n",
    "\n",
    "nonfacts_posPattern=getPosPattern(wholeXNonFacts)\n"
   ]
  },
  {
   "cell_type": "code",
   "execution_count": 15,
   "metadata": {},
   "outputs": [
    {
     "name": "stdout",
     "output_type": "stream",
     "text": [
      "['ADP', 'NUM', 'CCONJ', 'NUM', 'NOUN', 'ADP', 'NOUN', 'NOUN', 'VERB', 'VERB', 'ADP', 'ADJ', 'NOUN', 'ADV', 'PUNCT', 'ADP', 'ADV', 'NUM', 'PART', 'NUM', 'NOUN', 'ADP', 'NOUN', 'VERB', 'PUNCT', 'VERB', 'ADP', 'NOUN', 'ADP', 'DET', 'NOUN', 'NOUN', 'PUNCT']\n",
      "4989\n",
      "['ADJ', 'VERB', 'NOUN', 'VERB', 'ADP', 'DET', 'NOUN', 'VERB', 'VERB', 'ADJ', 'ADV', 'PUNCT']\n",
      "6123\n"
     ]
    }
   ],
   "source": [
    "# for i in posPattern:\n",
    "#     print(i)\n",
    "#     break\n",
    "# print(len(posPattern))\n",
    "\n",
    "# ----------------------------------------------------\n",
    "\n",
    "for i in facts_posPattern:\n",
    "    print(i)\n",
    "    break\n",
    "print(len(facts_posPattern))\n",
    "# ----------------------------------------------------\n",
    "\n",
    "for i in nonfacts_posPattern:\n",
    "    print(i)\n",
    "    break\n",
    "print(len(nonfacts_posPattern))"
   ]
  },
  {
   "cell_type": "code",
   "execution_count": 16,
   "metadata": {},
   "outputs": [
    {
     "name": "stdout",
     "output_type": "stream",
     "text": [
      "4989\n",
      "227082\n",
      "10255 \n",
      "\n",
      "6123\n",
      "336384\n",
      "11175\n"
     ]
    }
   ],
   "source": [
    "# pos_pattern_3_4=get34grams(posPattern)\n",
    "# print(len(pos_pattern_3_4))\n",
    "\n",
    "# pos_pattern_3_4_list=list(chain(*pos_pattern_3_4))\n",
    "# print(len(pos_pattern_3_4_list))\n",
    "\n",
    "# pos_pattern_3_4_list_set=list(set(pos_pattern_3_4_list))\n",
    "# print(len(pos_pattern_3_4_list_set))\n",
    "\n",
    "# ----------------------------------------------------\n",
    "\n",
    "\n",
    "facts_pos_pattern_3_4=get34grams(facts_posPattern)\n",
    "print(len(facts_pos_pattern_3_4))\n",
    "\n",
    "facts_pos_pattern_3_4_list=list(chain(*facts_pos_pattern_3_4))\n",
    "print(len(facts_pos_pattern_3_4_list))\n",
    "\n",
    "facts_pos_pattern_3_4_list_set=list(set(facts_pos_pattern_3_4_list))\n",
    "print(len(facts_pos_pattern_3_4_list_set),'\\n')\n",
    "\n",
    "# ----------------------------------------------------\n",
    "\n",
    "nonfacts_pos_pattern_3_4=get34grams(nonfacts_posPattern)\n",
    "print(len(nonfacts_pos_pattern_3_4))\n",
    "\n",
    "nonfacts_pos_pattern_3_4_list=list(chain(*nonfacts_pos_pattern_3_4))\n",
    "print(len(nonfacts_pos_pattern_3_4_list))\n",
    "\n",
    "nonfacts_pos_pattern_3_4_list_set=list(set(nonfacts_pos_pattern_3_4_list))\n",
    "print(len(nonfacts_pos_pattern_3_4_list_set))"
   ]
  },
  {
   "cell_type": "code",
   "execution_count": 17,
   "metadata": {},
   "outputs": [],
   "source": [
    "pos_toVector=['facts_posPattern_3gram','facts_posPattern_4gram','nonfacts_posPattern_3gram','nonfacts_posPattern_4gram',]"
   ]
  },
  {
   "cell_type": "code",
   "execution_count": null,
   "metadata": {},
   "outputs": [],
   "source": []
  },
  {
   "cell_type": "markdown",
   "metadata": {},
   "source": [
    "### Sentiment Extractor"
   ]
  },
  {
   "cell_type": "code",
   "execution_count": 18,
   "metadata": {},
   "outputs": [],
   "source": [
    "sentiment_scores=['_Sentiment_Feature_']\n"
   ]
  },
  {
   "cell_type": "code",
   "execution_count": null,
   "metadata": {},
   "outputs": [],
   "source": []
  },
  {
   "cell_type": "markdown",
   "metadata": {},
   "source": [
    "### TPattern"
   ]
  },
  {
   "cell_type": "code",
   "execution_count": 19,
   "metadata": {},
   "outputs": [
    {
     "name": "stdout",
     "output_type": "stream",
     "text": [
      "['_case_1_', '_case_2_', '_case_3_', '_case_4_', '_case_5_']\n"
     ]
    }
   ],
   "source": [
    "Tcases=[]\n",
    "for i in range(1,6):\n",
    "    cases='_case_'+str(i)+'_'\n",
    "    Tcases.append(cases)\n",
    "print(Tcases)"
   ]
  },
  {
   "cell_type": "code",
   "execution_count": null,
   "metadata": {},
   "outputs": [],
   "source": []
  },
  {
   "cell_type": "markdown",
   "metadata": {},
   "source": [
    "### ASPattern"
   ]
  },
  {
   "cell_type": "code",
   "execution_count": null,
   "metadata": {},
   "outputs": [],
   "source": []
  },
  {
   "cell_type": "code",
   "execution_count": null,
   "metadata": {},
   "outputs": [],
   "source": []
  },
  {
   "cell_type": "code",
   "execution_count": null,
   "metadata": {},
   "outputs": [],
   "source": []
  },
  {
   "cell_type": "markdown",
   "metadata": {},
   "source": [
    "### Adding into 'Vector'"
   ]
  },
  {
   "cell_type": "code",
   "execution_count": 20,
   "metadata": {},
   "outputs": [
    {
     "name": "stdout",
     "output_type": "stream",
     "text": [
      "grams_toVector: 6\n",
      "pos_tag_list_set: 22\n",
      "named_entity_list_set: 39\n",
      "pos_toVector: 43\n",
      "Tpattern: 48\n",
      "sentiment_scores: 49\n"
     ]
    }
   ],
   "source": [
    "vector=[]\n",
    "\n",
    "# Ngrams features\n",
    "# for i in wholeGrams_list_set:\n",
    "#     vector.append(i)\n",
    "# print('wholeGrams_list_set:',len(vector))\n",
    "\n",
    "for i in grams_toVector:\n",
    "    vector.append(i)\n",
    "print('grams_toVector:',len(vector))\n",
    "\n",
    "# ----------------------------------------------------\n",
    "\n",
    "# pos Tagging features\n",
    "for i in pos_tag_list_set:\n",
    "    vector.append(i)\n",
    "print('pos_tag_list_set:',len(vector))\n",
    "\n",
    "# ----------------------------------------------------\n",
    "\n",
    "# Named Entities features\n",
    "for i in named_entity_list_set:\n",
    "    vector.append(i)\n",
    "print('named_entity_list_set:',len(vector))\n",
    "\n",
    "# ----------------------------------------------------\n",
    "\n",
    "# posPattern features\n",
    "# for i in pos_pattern_3_4_list_set:\n",
    "#     vector.append(i)\n",
    "# print('pos_pattern_3_4_list_set:',len(vector))\n",
    "\n",
    "for i in pos_toVector:\n",
    "    vector.append(i)\n",
    "print('pos_toVector:',len(vector))\n",
    "\n",
    "# ----------------------------------------------------\n",
    "\n",
    "# Tpattern cases features\n",
    "for i in Tcases:\n",
    "    vector.append(i)\n",
    "print('Tpattern:',len(vector))\n",
    "\n",
    "# ----------------------------------------------------\n",
    "\n",
    "# Sentiment Scores features\n",
    "for i in sentiment_scores:\n",
    "    vector.append(i)\n",
    "print('sentiment_scores:',len(vector))"
   ]
  },
  {
   "cell_type": "code",
   "execution_count": 21,
   "metadata": {},
   "outputs": [
    {
     "name": "stdout",
     "output_type": "stream",
     "text": [
      "['facts_unigram', 'facts_bigram', 'facts_trigram', 'nonfacts_unigram', 'nonfacts_bigram', 'nonfacts_trigram', 'CCONJ', 'PRON', 'INTJ', 'PUNCT', 'NUM', 'ADP', 'SPACE', 'PROPN', 'SYM', 'ADJ', 'VERB', 'X', 'DET', 'PART', 'NOUN', 'ADV', 'MONEY', 'EVENT', 'FAC', 'NORP', 'PERCENT', 'CARDINAL', 'PRODUCT', 'DATE', 'TIME', 'LAW', 'LOC', 'LANGUAGE', 'ORG', 'QUANTITY', 'GPE', 'PERSON', 'ORDINAL', 'facts_posPattern_3gram', 'facts_posPattern_4gram', 'nonfacts_posPattern_3gram', 'nonfacts_posPattern_4gram', '_case_1_', '_case_2_', '_case_3_', '_case_4_', '_case_5_', '_Sentiment_Feature_']\n"
     ]
    }
   ],
   "source": [
    "print(vector)"
   ]
  },
  {
   "cell_type": "code",
   "execution_count": null,
   "metadata": {},
   "outputs": [],
   "source": []
  },
  {
   "cell_type": "markdown",
   "metadata": {},
   "source": [
    "### Saving(dumping)"
   ]
  },
  {
   "cell_type": "code",
   "execution_count": 33,
   "metadata": {},
   "outputs": [
    {
     "data": {
      "text/plain": [
       "['sav/X_nonfacts_reduced.sav']"
      ]
     },
     "execution_count": 33,
     "metadata": {},
     "output_type": "execute_result"
    }
   ],
   "source": [
    "dataset_fact_file='sav/dataset_fact_reduced.sav'\n",
    "dataset_nonfact_file='sav/dataset_nonfact_reduced.sav'\n",
    "\n",
    "X_file='sav/X_reduced.sav'#only sentences->not labels\n",
    "X_facts_file='sav/X_facts_reduced.sav'\n",
    "X_nonfacts_file='sav/X_nonfacts_reduced.sav'\n",
    "\n",
    "\n",
    "joblib.dump(dataset_fact,dataset_fact_file)\n",
    "joblib.dump(dataset_nonfact,dataset_nonfact_file)\n",
    "joblib.dump(X,X_file)\n",
    "joblib.dump(X_facts,X_facts_file)\n",
    "joblib.dump(X_nonfacts,X_nonfacts_file)\n"
   ]
  },
  {
   "cell_type": "code",
   "execution_count": 34,
   "metadata": {},
   "outputs": [
    {
     "data": {
      "text/plain": [
       "['sav/nonfacts_as_string_reduced.sav']"
      ]
     },
     "execution_count": 34,
     "metadata": {},
     "output_type": "execute_result"
    }
   ],
   "source": [
    "sent_as_string_file='sav/sent_as_string_reduced.sav'\n",
    "facts_as_string_file='sav/facts_as_string_reduced.sav'\n",
    "nonfacts_as_string_file='sav/nonfacts_as_string_reduced.sav'\n",
    "\n",
    "joblib.dump(sent_as_string,sent_as_string_file)\n",
    "joblib.dump(facts_as_string,facts_as_string_file)\n",
    "joblib.dump(nonfacts_as_string,nonfacts_as_string_file)"
   ]
  },
  {
   "cell_type": "code",
   "execution_count": 35,
   "metadata": {},
   "outputs": [
    {
     "data": {
      "text/plain": [
       "['sav/nonfacts_wholeGrams_list_set_reduced.sav']"
      ]
     },
     "execution_count": 35,
     "metadata": {},
     "output_type": "execute_result"
    }
   ],
   "source": [
    "facts_wholeGrams_list_set_file='sav/facts_wholeGrams_list_set_reduced.sav'\n",
    "nonfacts_wholeGrams_list_set_file='sav/nonfacts_wholeGrams_list_set_reduced.sav'\n",
    "\n",
    "joblib.dump(facts_wholeGrams_list_set,facts_wholeGrams_list_set_file)\n",
    "joblib.dump(nonfacts_wholeGrams_list_set,nonfacts_wholeGrams_list_set_file)"
   ]
  },
  {
   "cell_type": "code",
   "execution_count": 36,
   "metadata": {},
   "outputs": [
    {
     "data": {
      "text/plain": [
       "['sav/pos_tag_list_set_reduced.sav']"
      ]
     },
     "execution_count": 36,
     "metadata": {},
     "output_type": "execute_result"
    }
   ],
   "source": [
    "pos_tag_list_set_file='sav/pos_tag_list_set_reduced.sav'\n",
    "joblib.dump(pos_tag_list_set,pos_tag_list_set_file)"
   ]
  },
  {
   "cell_type": "code",
   "execution_count": 37,
   "metadata": {},
   "outputs": [
    {
     "data": {
      "text/plain": [
       "['sav/named_entity_list_set_reduced.sav']"
      ]
     },
     "execution_count": 37,
     "metadata": {},
     "output_type": "execute_result"
    }
   ],
   "source": [
    "named_entity_list_set_file='sav/named_entity_list_set_reduced.sav'\n",
    "joblib.dump(named_entity_list_set,named_entity_list_set_file)"
   ]
  },
  {
   "cell_type": "code",
   "execution_count": 38,
   "metadata": {},
   "outputs": [
    {
     "data": {
      "text/plain": [
       "['sav/nonfacts_pos_pattern_3_4_list_set_reduced.sav']"
      ]
     },
     "execution_count": 38,
     "metadata": {},
     "output_type": "execute_result"
    }
   ],
   "source": [
    "facts_pos_pattern_3_4_list_set_file='sav/facts_pos_pattern_3_4_list_set_reduced.sav'\n",
    "nonfacts_pos_pattern_3_4_list_set_file='sav/nonfacts_pos_pattern_3_4_list_set_reduced.sav'\n",
    "\n",
    "joblib.dump(facts_pos_pattern_3_4_list_set,facts_pos_pattern_3_4_list_set_file)\n",
    "joblib.dump(nonfacts_pos_pattern_3_4_list_set,nonfacts_pos_pattern_3_4_list_set_file)"
   ]
  },
  {
   "cell_type": "code",
   "execution_count": 39,
   "metadata": {},
   "outputs": [
    {
     "data": {
      "text/plain": [
       "['sav/vector_dimensions_reduced.sav']"
      ]
     },
     "execution_count": 39,
     "metadata": {},
     "output_type": "execute_result"
    }
   ],
   "source": [
    "vector_file='sav/vector_dimensions_reduced.sav'\n",
    "joblib.dump(vector,vector_file)"
   ]
  },
  {
   "cell_type": "code",
   "execution_count": null,
   "metadata": {},
   "outputs": [],
   "source": []
  },
  {
   "cell_type": "code",
   "execution_count": null,
   "metadata": {},
   "outputs": [],
   "source": []
  },
  {
   "cell_type": "code",
   "execution_count": 40,
   "metadata": {},
   "outputs": [],
   "source": [
    "vector_load=joblib.load('vector_dimensions_reduced.sav')"
   ]
  },
  {
   "cell_type": "code",
   "execution_count": 41,
   "metadata": {},
   "outputs": [
    {
     "data": {
      "text/plain": [
       "49"
      ]
     },
     "execution_count": 41,
     "metadata": {},
     "output_type": "execute_result"
    }
   ],
   "source": [
    "len(vector_load)"
   ]
  },
  {
   "cell_type": "code",
   "execution_count": null,
   "metadata": {},
   "outputs": [],
   "source": []
  }
 ],
 "metadata": {
  "kernelspec": {
   "display_name": "Python 3",
   "language": "python",
   "name": "python3"
  },
  "language_info": {
   "codemirror_mode": {
    "name": "ipython",
    "version": 3
   },
   "file_extension": ".py",
   "mimetype": "text/x-python",
   "name": "python",
   "nbconvert_exporter": "python",
   "pygments_lexer": "ipython3",
   "version": "3.6.8"
  }
 },
 "nbformat": 4,
 "nbformat_minor": 2
}
