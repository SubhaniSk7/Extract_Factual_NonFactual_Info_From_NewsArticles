{
 "cells": [
  {
   "cell_type": "code",
   "execution_count": 1,
   "metadata": {},
   "outputs": [],
   "source": [
    "import spacy\n",
    "import corenlp\n",
    "import nltk\n",
    "from nltk import ngrams\n",
    "from nltk.tokenize import sent_tokenize,wordpunct_tokenize,word_tokenize,RegexpTokenizer,TweetTokenizer\n",
    "from nltk.corpus import stopwords \n",
    "from nltk.stem.porter import PorterStemmer\n",
    "from nltk.stem import WordNetLemmatizer\n",
    "\n",
    "import sklearn\n",
    "from sklearn.externals import joblib\n",
    "from sklearn.model_selection import train_test_split\n",
    "\n",
    "import pandas as pd\n",
    "import numpy as np\n",
    "\n",
    "import os,math,glob,re\n",
    "\n",
    "from collections import Counter\n",
    "import re as regex\n",
    "import contractions\n",
    "\n",
    "from itertools import chain"
   ]
  },
  {
   "cell_type": "markdown",
   "metadata": {},
   "source": [
    "### Pre-Processing"
   ]
  },
  {
   "cell_type": "code",
   "execution_count": 2,
   "metadata": {},
   "outputs": [],
   "source": [
    "def contract(text):\n",
    "    return contractions.fix(text)\n",
    "\n",
    "def regTokenize(text):\n",
    "    tok=RegexpTokenizer('[A-Za-z0-9]*[.]?\\w+')\n",
    "    return tok.tokenize(text) \n",
    "\n",
    "def lowercase(text):\n",
    "    return text.lower()\n",
    "\n",
    "def lemma(words):\n",
    "    for i in range(0,len(words)):\n",
    "        words[i]=WordNetLemmatizer().lemmatize(words[i])\n",
    "    return words\n",
    "\n",
    "def stemming(words):\n",
    "    porter_stemmer=PorterStemmer()\n",
    "    for i in range(0,len(words)):\n",
    "        words[i]=porter_stemmer.stem(words[i])\n",
    "    return words\n",
    "\n",
    "def tweet(words):\n",
    "    tok=TweetTokenizer()\n",
    "    return tok.tokenize(words)\n",
    "\n",
    "def comma(text):\n",
    "    text = \"\".join(c for c in text if c not in ('!','.',':',',','\"','?','(',')'))\n",
    "    return text"
   ]
  },
  {
   "cell_type": "code",
   "execution_count": 3,
   "metadata": {
    "scrolled": true
   },
   "outputs": [
    {
     "data": {
      "text/plain": [
       "['der', '4.5', 'sd', 'fs', 'f', 'sd', 'fs', 'dfs', 'ewe.rewr', 'werwer']"
      ]
     },
     "execution_count": 3,
     "metadata": {},
     "output_type": "execute_result"
    }
   ],
   "source": [
    "text = \"der 4.5 --- sd'fs)f sd&fs%dfs. ewe.rewr. werwer\"\n",
    "regTokenize(text)"
   ]
  },
  {
   "cell_type": "code",
   "execution_count": 4,
   "metadata": {},
   "outputs": [
    {
     "name": "stdout",
     "output_type": "stream",
     "text": [
      "----------\n",
      "\t\n",
      "Beijing has completed the afforestation of 4,000 hectares over the past six months, the municipal forestry bureau revealed yesterday.\n",
      "[('Beijing', 'has', 'completed'), ('has', 'completed', 'the'), ('completed', 'the', 'afforestation'), ('the', 'afforestation', 'of'), ('afforestation', 'of', '4,000'), ('of', '4,000', 'hectares'), ('4,000', 'hectares', 'over'), ('hectares', 'over', 'the'), ('over', 'the', 'past'), ('the', 'past', 'six'), ('past', 'six', 'months,'), ('six', 'months,', 'the'), ('months,', 'the', 'municipal'), ('the', 'municipal', 'forestry'), ('municipal', 'forestry', 'bureau'), ('forestry', 'bureau', 'revealed'), ('bureau', 'revealed', 'yesterday.')]\n",
      "\n",
      "---------------------------------------------------\n",
      "\"We planted trees mainly in the major five areas that are severely endangered by sandy wind,\" said Cai Baojun, an official with the bureau in charge of forest planting.\n",
      "[('\"We', 'planted', 'trees'), ('planted', 'trees', 'mainly'), ('trees', 'mainly', 'in'), ('mainly', 'in', 'the'), ('in', 'the', 'major'), ('the', 'major', 'five'), ('major', 'five', 'areas'), ('five', 'areas', 'that'), ('areas', 'that', 'are'), ('that', 'are', 'severely'), ('are', 'severely', 'endangered'), ('severely', 'endangered', 'by'), ('endangered', 'by', 'sandy'), ('by', 'sandy', 'wind,\"'), ('sandy', 'wind,\"', 'said'), ('wind,\"', 'said', 'Cai'), ('said', 'Cai', 'Baojun,'), ('Cai', 'Baojun,', 'an'), ('Baojun,', 'an', 'official'), ('an', 'official', 'with'), ('official', 'with', 'the'), ('with', 'the', 'bureau'), ('the', 'bureau', 'in'), ('bureau', 'in', 'charge'), ('in', 'charge', 'of'), ('charge', 'of', 'forest'), ('of', 'forest', 'planting.')]\n",
      "\n",
      "---------------------------------------------------\n",
      "The shifting dunes in Beijing's suburbs and rural areas have been successfully controlled by green barriers of trees and grass, which have also helped upgrade the city's forest proportion to 43 per cent, 23 percentage points higher than the nation's metropolitan average.\n",
      "[('The', 'shifting', 'dunes'), ('shifting', 'dunes', 'in'), ('dunes', 'in', \"Beijing's\"), ('in', \"Beijing's\", 'suburbs'), (\"Beijing's\", 'suburbs', 'and'), ('suburbs', 'and', 'rural'), ('and', 'rural', 'areas'), ('rural', 'areas', 'have'), ('areas', 'have', 'been'), ('have', 'been', 'successfully'), ('been', 'successfully', 'controlled'), ('successfully', 'controlled', 'by'), ('controlled', 'by', 'green'), ('by', 'green', 'barriers'), ('green', 'barriers', 'of'), ('barriers', 'of', 'trees'), ('of', 'trees', 'and'), ('trees', 'and', 'grass,'), ('and', 'grass,', 'which'), ('grass,', 'which', 'have'), ('which', 'have', 'also'), ('have', 'also', 'helped'), ('also', 'helped', 'upgrade'), ('helped', 'upgrade', 'the'), ('upgrade', 'the', \"city's\"), ('the', \"city's\", 'forest'), (\"city's\", 'forest', 'proportion'), ('forest', 'proportion', 'to'), ('proportion', 'to', '43'), ('to', '43', 'per'), ('43', 'per', 'cent,'), ('per', 'cent,', '23'), ('cent,', '23', 'percentage'), ('23', 'percentage', 'points'), ('percentage', 'points', 'higher'), ('points', 'higher', 'than'), ('higher', 'than', 'the'), ('than', 'the', \"nation's\"), ('the', \"nation's\", 'metropolitan'), (\"nation's\", 'metropolitan', 'average.')]\n",
      "\n",
      "---------------------------------------------------\n",
      "A 200-metre belt of trees has been planted on each side of the Yongding, Chaobai, Dasha and Wenyu rivers, which was previously the city's most desertificated land.\n",
      "[('A', '200-metre', 'belt'), ('200-metre', 'belt', 'of'), ('belt', 'of', 'trees'), ('of', 'trees', 'has'), ('trees', 'has', 'been'), ('has', 'been', 'planted'), ('been', 'planted', 'on'), ('planted', 'on', 'each'), ('on', 'each', 'side'), ('each', 'side', 'of'), ('side', 'of', 'the'), ('of', 'the', 'Yongding,'), ('the', 'Yongding,', 'Chaobai,'), ('Yongding,', 'Chaobai,', 'Dasha'), ('Chaobai,', 'Dasha', 'and'), ('Dasha', 'and', 'Wenyu'), ('and', 'Wenyu', 'rivers,'), ('Wenyu', 'rivers,', 'which'), ('rivers,', 'which', 'was'), ('which', 'was', 'previously'), ('was', 'previously', 'the'), ('previously', 'the', \"city's\"), ('the', \"city's\", 'most'), (\"city's\", 'most', 'desertificated'), ('most', 'desertificated', 'land.')]\n",
      "\n",
      "---------------------------------------------------\n",
      "Forestry experts said dry weather and temperature fluctuations were the main cause of sandstorms.\n",
      "[('Forestry', 'experts', 'said'), ('experts', 'said', 'dry'), ('said', 'dry', 'weather'), ('dry', 'weather', 'and'), ('weather', 'and', 'temperature'), ('and', 'temperature', 'fluctuations'), ('temperature', 'fluctuations', 'were'), ('fluctuations', 'were', 'the'), ('were', 'the', 'main'), ('the', 'main', 'cause'), ('main', 'cause', 'of'), ('cause', 'of', 'sandstorms.')]\n",
      "\n",
      "---------------------------------------------------\n",
      "The repeated breaching of the embankments of the Yongding and Chaobai rivers also resulted in the desertification of the land with heavy sand being deposited by floods.\n",
      "[('The', 'repeated', 'breaching'), ('repeated', 'breaching', 'of'), ('breaching', 'of', 'the'), ('of', 'the', 'embankments'), ('the', 'embankments', 'of'), ('embankments', 'of', 'the'), ('of', 'the', 'Yongding'), ('the', 'Yongding', 'and'), ('Yongding', 'and', 'Chaobai'), ('and', 'Chaobai', 'rivers'), ('Chaobai', 'rivers', 'also'), ('rivers', 'also', 'resulted'), ('also', 'resulted', 'in'), ('resulted', 'in', 'the'), ('in', 'the', 'desertification'), ('the', 'desertification', 'of'), ('desertification', 'of', 'the'), ('of', 'the', 'land'), ('the', 'land', 'with'), ('land', 'with', 'heavy'), ('with', 'heavy', 'sand'), ('heavy', 'sand', 'being'), ('sand', 'being', 'deposited'), ('being', 'deposited', 'by'), ('deposited', 'by', 'floods.')]\n",
      "\n",
      "---------------------------------------------------\n",
      "By 2005, 50 per cent of Beijing's land, including both urban and rural areas, will have been covered with trees.\n",
      "[('By', '2005,', '50'), ('2005,', '50', 'per'), ('50', 'per', 'cent'), ('per', 'cent', 'of'), ('cent', 'of', \"Beijing's\"), ('of', \"Beijing's\", 'land,'), (\"Beijing's\", 'land,', 'including'), ('land,', 'including', 'both'), ('including', 'both', 'urban'), ('both', 'urban', 'and'), ('urban', 'and', 'rural'), ('and', 'rural', 'areas,'), ('rural', 'areas,', 'will'), ('areas,', 'will', 'have'), ('will', 'have', 'been'), ('have', 'been', 'covered'), ('been', 'covered', 'with'), ('covered', 'with', 'trees.')]\n",
      "\n",
      "---------------------------------------------------\n",
      "The green belts have helped protect the crops from sand, wind, drought and floods to guarantee grain production, Cai said.\n",
      "[('The', 'green', 'belts'), ('green', 'belts', 'have'), ('belts', 'have', 'helped'), ('have', 'helped', 'protect'), ('helped', 'protect', 'the'), ('protect', 'the', 'crops'), ('the', 'crops', 'from'), ('crops', 'from', 'sand,'), ('from', 'sand,', 'wind,'), ('sand,', 'wind,', 'drought'), ('wind,', 'drought', 'and'), ('drought', 'and', 'floods'), ('and', 'floods', 'to'), ('floods', 'to', 'guarantee'), ('to', 'guarantee', 'grain'), ('guarantee', 'grain', 'production,'), ('grain', 'production,', 'Cai'), ('production,', 'Cai', 'said.')]\n",
      "\n",
      "---------------------------------------------------\n",
      "Over the next 10 years, China will invest 6 billion yuan (US$720 million) to prevent sandstorms hitting Beijing, according to sources from the State Forestry Administration.\n",
      "[('Over', 'the', 'next'), ('the', 'next', '10'), ('next', '10', 'years,'), ('10', 'years,', 'China'), ('years,', 'China', 'will'), ('China', 'will', 'invest'), ('will', 'invest', '6'), ('invest', '6', 'billion'), ('6', 'billion', 'yuan'), ('billion', 'yuan', '(US$720'), ('yuan', '(US$720', 'million)'), ('(US$720', 'million)', 'to'), ('million)', 'to', 'prevent'), ('to', 'prevent', 'sandstorms'), ('prevent', 'sandstorms', 'hitting'), ('sandstorms', 'hitting', 'Beijing,'), ('hitting', 'Beijing,', 'according'), ('Beijing,', 'according', 'to'), ('according', 'to', 'sources'), ('to', 'sources', 'from'), ('sources', 'from', 'the'), ('from', 'the', 'State'), ('the', 'State', 'Forestry'), ('State', 'Forestry', 'Administration.')]\n",
      "\n",
      "---------------------------------------------------\n",
      "Private organizations are also being encouraged to help fight sandstorms, according to the administration's vice-director Li Yucai.\n"
     ]
    },
    {
     "name": "stdout",
     "output_type": "stream",
     "text": [
      "[('Private', 'organizations', 'are'), ('organizations', 'are', 'also'), ('are', 'also', 'being'), ('also', 'being', 'encouraged'), ('being', 'encouraged', 'to'), ('encouraged', 'to', 'help'), ('to', 'help', 'fight'), ('help', 'fight', 'sandstorms,'), ('fight', 'sandstorms,', 'according'), ('sandstorms,', 'according', 'to'), ('according', 'to', 'the'), ('to', 'the', \"administration's\"), ('the', \"administration's\", 'vice-director'), (\"administration's\", 'vice-director', 'Li'), ('vice-director', 'Li', 'Yucai.')]\n",
      "\n",
      "---------------------------------------------------\n",
      "Favourable taxation policies will also be given to people engaged in the transformation of desertificated land.\n",
      "[('Favourable', 'taxation', 'policies'), ('taxation', 'policies', 'will'), ('policies', 'will', 'also'), ('will', 'also', 'be'), ('also', 'be', 'given'), ('be', 'given', 'to'), ('given', 'to', 'people'), ('to', 'people', 'engaged'), ('people', 'engaged', 'in'), ('engaged', 'in', 'the'), ('in', 'the', 'transformation'), ('the', 'transformation', 'of'), ('transformation', 'of', 'desertificated'), ('of', 'desertificated', 'land.')]\n",
      "\n",
      "---------------------------------------------------\n",
      "Beijing was struck by sandstorms several times this spring.\n",
      "[('Beijing', 'was', 'struck'), ('was', 'struck', 'by'), ('struck', 'by', 'sandstorms'), ('by', 'sandstorms', 'several'), ('sandstorms', 'several', 'times'), ('several', 'times', 'this'), ('times', 'this', 'spring.')]\n",
      "\n",
      "---------------------------------------------------\n",
      "It is believed that sand from northern areas, especially the Inner Mongolia Autonomous Region, and floating dust from the city's uncovered construction sites are the main causes.\n",
      "[('It', 'is', 'believed'), ('is', 'believed', 'that'), ('believed', 'that', 'sand'), ('that', 'sand', 'from'), ('sand', 'from', 'northern'), ('from', 'northern', 'areas,'), ('northern', 'areas,', 'especially'), ('areas,', 'especially', 'the'), ('especially', 'the', 'Inner'), ('the', 'Inner', 'Mongolia'), ('Inner', 'Mongolia', 'Autonomous'), ('Mongolia', 'Autonomous', 'Region,'), ('Autonomous', 'Region,', 'and'), ('Region,', 'and', 'floating'), ('and', 'floating', 'dust'), ('floating', 'dust', 'from'), ('dust', 'from', 'the'), ('from', 'the', \"city's\"), ('the', \"city's\", 'uncovered'), (\"city's\", 'uncovered', 'construction'), ('uncovered', 'construction', 'sites'), ('construction', 'sites', 'are'), ('sites', 'are', 'the'), ('are', 'the', 'main'), ('the', 'main', 'causes.')]\n",
      "\n",
      "---------------------------------------------------\n"
     ]
    }
   ],
   "source": [
    "file=open('abc.txt','r')\n",
    "f=file.read()\n",
    "# print(f)\n",
    "\n",
    "f_sent=sent_tokenize(f)\n",
    "# print(f_sent)\n",
    "# print(len(f_sent))\n",
    "print('----------')\n",
    "grams=[]\n",
    "for i in f_sent:\n",
    "    print(i)\n",
    "    g=ngrams(i.split(),3);\n",
    "    gra=list(g)\n",
    "    print(gra)\n",
    "    for j in g:\n",
    "        print(j,end=' ')\n",
    "    \n",
    "    print('\\n---------------------------------------------------')\n"
   ]
  },
  {
   "cell_type": "code",
   "execution_count": null,
   "metadata": {},
   "outputs": [],
   "source": []
  }
 ],
 "metadata": {
  "kernelspec": {
   "display_name": "Python 3",
   "language": "python",
   "name": "python3"
  },
  "language_info": {
   "codemirror_mode": {
    "name": "ipython",
    "version": 3
   },
   "file_extension": ".py",
   "mimetype": "text/x-python",
   "name": "python",
   "nbconvert_exporter": "python",
   "pygments_lexer": "ipython3",
   "version": "3.6.8"
  }
 },
 "nbformat": 4,
 "nbformat_minor": 2
}
